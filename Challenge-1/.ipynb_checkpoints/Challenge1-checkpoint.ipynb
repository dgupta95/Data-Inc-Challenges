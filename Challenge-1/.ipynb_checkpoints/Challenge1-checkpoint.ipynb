{
 "cells": [
  {
   "cell_type": "markdown",
   "metadata": {},
   "source": [
    "# Analysis of Fire Incidents in New York"
   ]
  },
  {
   "cell_type": "markdown",
   "metadata": {},
   "source": [
    "As a part of the challenges assigned by **The Data Incubator**"
   ]
  },
  {
   "cell_type": "markdown",
   "metadata": {},
   "source": [
    "## Problem Statement"
   ]
  },
  {
   "cell_type": "markdown",
   "metadata": {},
   "source": [
    "The New York City Fire Department keeps a log of detailed information on incidents handled by FDNY units. In this challenge we will work with a dataset that contains a record of incidents handled by FDNY units from 2013-2017. Download the [FDNY data set](https://data.cityofnewyork.us/api/views/tm6d-hbzd/rows.csv?accessType=DOWNLOAD). Also take a look at the [dataset landing page](https://data.cityofnewyork.us/Public-Safety/Incidents-Responded-to-by-Fire-Companies/tm6d-hbzd) and find descriptions of column names [here](https://data.cityofnewyork.us/api/views/tm6d-hbzd/files/1434d09c-fbf8-4450-8b42-9fe0c3b85fb3?download=true&filename=OPEN_DATA_FIRE_INCIDENTS_FILE_DESCRIPTION.xls)."
   ]
  },
  {
   "cell_type": "markdown",
   "metadata": {},
   "source": [
    "### Loading and Visualisation"
   ]
  },
  {
   "cell_type": "markdown",
   "metadata": {},
   "source": [
    "First, let us load the data set. "
   ]
  },
  {
   "cell_type": "code",
   "execution_count": 1,
   "metadata": {},
   "outputs": [],
   "source": [
    "import pandas as pd\n",
    "dataset = pd.read_csv(\"Incidents_Responded_to_by_Fire_Companies.csv\", low_memory=False)"
   ]
  },
  {
   "cell_type": "markdown",
   "metadata": {},
   "source": [
    "Make a copy of the data to work on. "
   ]
  },
  {
   "cell_type": "code",
   "execution_count": 2,
   "metadata": {},
   "outputs": [],
   "source": [
    "data = dataset.copy()"
   ]
  },
  {
   "cell_type": "markdown",
   "metadata": {},
   "source": [
    "Now, let us visualize it first. "
   ]
  },
  {
   "cell_type": "code",
   "execution_count": 3,
   "metadata": {},
   "outputs": [
    {
     "data": {
      "text/html": [
       "<div>\n",
       "<style scoped>\n",
       "    .dataframe tbody tr th:only-of-type {\n",
       "        vertical-align: middle;\n",
       "    }\n",
       "\n",
       "    .dataframe tbody tr th {\n",
       "        vertical-align: top;\n",
       "    }\n",
       "\n",
       "    .dataframe thead th {\n",
       "        text-align: right;\n",
       "    }\n",
       "</style>\n",
       "<table border=\"1\" class=\"dataframe\">\n",
       "  <thead>\n",
       "    <tr style=\"text-align: right;\">\n",
       "      <th></th>\n",
       "      <th>IM_INCIDENT_KEY</th>\n",
       "      <th>FIRE_BOX</th>\n",
       "      <th>INCIDENT_TYPE_DESC</th>\n",
       "      <th>INCIDENT_DATE_TIME</th>\n",
       "      <th>ARRIVAL_DATE_TIME</th>\n",
       "      <th>UNITS_ONSCENE</th>\n",
       "      <th>LAST_UNIT_CLEARED_DATE_TIME</th>\n",
       "      <th>HIGHEST_LEVEL_DESC</th>\n",
       "      <th>TOTAL_INCIDENT_DURATION</th>\n",
       "      <th>ACTION_TAKEN1_DESC</th>\n",
       "      <th>...</th>\n",
       "      <th>ZIP_CODE</th>\n",
       "      <th>BOROUGH_DESC</th>\n",
       "      <th>FLOOR</th>\n",
       "      <th>CO_DETECTOR_PRESENT_DESC</th>\n",
       "      <th>FIRE_ORIGIN_BELOW_GRADE_FLAG</th>\n",
       "      <th>STORY_FIRE_ORIGIN_COUNT</th>\n",
       "      <th>FIRE_SPREAD_DESC</th>\n",
       "      <th>DETECTOR_PRESENCE_DESC</th>\n",
       "      <th>AES_PRESENCE_DESC</th>\n",
       "      <th>STANDPIPE_SYS_PRESENT_FLAG</th>\n",
       "    </tr>\n",
       "  </thead>\n",
       "  <tbody>\n",
       "    <tr>\n",
       "      <th>0</th>\n",
       "      <td>55672688</td>\n",
       "      <td>2147</td>\n",
       "      <td>300 - Rescue, EMS incident, other</td>\n",
       "      <td>01/01/2013 12:00:20 AM</td>\n",
       "      <td>01/01/2013 12:14:23 AM</td>\n",
       "      <td>1.0</td>\n",
       "      <td>01/01/2013 12:20:06 AM</td>\n",
       "      <td>1 - More than initial alarm, less than Signal 7-5</td>\n",
       "      <td>1186.0</td>\n",
       "      <td>00 - Action taken, other</td>\n",
       "      <td>...</td>\n",
       "      <td>10454</td>\n",
       "      <td>2 - Bronx</td>\n",
       "      <td>NaN</td>\n",
       "      <td>NaN</td>\n",
       "      <td>NaN</td>\n",
       "      <td>NaN</td>\n",
       "      <td>NaN</td>\n",
       "      <td>NaN</td>\n",
       "      <td>NaN</td>\n",
       "      <td>NaN</td>\n",
       "    </tr>\n",
       "    <tr>\n",
       "      <th>1</th>\n",
       "      <td>55672692</td>\n",
       "      <td>0818</td>\n",
       "      <td>735A - Unwarranted alarm/defective condition o...</td>\n",
       "      <td>01/01/2013 12:00:37 AM</td>\n",
       "      <td>01/01/2013 12:09:03 AM</td>\n",
       "      <td>3.0</td>\n",
       "      <td>01/01/2013 12:30:06 AM</td>\n",
       "      <td>1 - More than initial alarm, less than Signal 7-5</td>\n",
       "      <td>1769.0</td>\n",
       "      <td>86 - Investigate</td>\n",
       "      <td>...</td>\n",
       "      <td>10036</td>\n",
       "      <td>1 - Manhattan</td>\n",
       "      <td>NaN</td>\n",
       "      <td>NaN</td>\n",
       "      <td>NaN</td>\n",
       "      <td>NaN</td>\n",
       "      <td>NaN</td>\n",
       "      <td>NaN</td>\n",
       "      <td>NaN</td>\n",
       "      <td>NaN</td>\n",
       "    </tr>\n",
       "    <tr>\n",
       "      <th>2</th>\n",
       "      <td>55672693</td>\n",
       "      <td>9656</td>\n",
       "      <td>300 - Rescue, EMS incident, other</td>\n",
       "      <td>01/01/2013 12:01:17 AM</td>\n",
       "      <td>01/01/2013 12:04:55 AM</td>\n",
       "      <td>1.0</td>\n",
       "      <td>01/01/2013 12:15:18 AM</td>\n",
       "      <td>1 - More than initial alarm, less than Signal 7-5</td>\n",
       "      <td>841.0</td>\n",
       "      <td>00 - Action taken, other</td>\n",
       "      <td>...</td>\n",
       "      <td>11418</td>\n",
       "      <td>5 - Queens</td>\n",
       "      <td>NaN</td>\n",
       "      <td>NaN</td>\n",
       "      <td>NaN</td>\n",
       "      <td>NaN</td>\n",
       "      <td>NaN</td>\n",
       "      <td>NaN</td>\n",
       "      <td>NaN</td>\n",
       "      <td>NaN</td>\n",
       "    </tr>\n",
       "    <tr>\n",
       "      <th>3</th>\n",
       "      <td>55672695</td>\n",
       "      <td>7412</td>\n",
       "      <td>412 - Gas leak (natural gas or LPG)</td>\n",
       "      <td>01/01/2013 12:02:32 AM</td>\n",
       "      <td>01/01/2013 12:07:48 AM</td>\n",
       "      <td>4.0</td>\n",
       "      <td>01/01/2013 12:40:11 AM</td>\n",
       "      <td>1 - More than initial alarm, less than Signal 7-5</td>\n",
       "      <td>2259.0</td>\n",
       "      <td>44 - Hazardous materials leak control &amp; contai...</td>\n",
       "      <td>...</td>\n",
       "      <td>11103</td>\n",
       "      <td>5 - Queens</td>\n",
       "      <td>1</td>\n",
       "      <td>NaN</td>\n",
       "      <td>NaN</td>\n",
       "      <td>NaN</td>\n",
       "      <td>NaN</td>\n",
       "      <td>NaN</td>\n",
       "      <td>NaN</td>\n",
       "      <td>NaN</td>\n",
       "    </tr>\n",
       "    <tr>\n",
       "      <th>4</th>\n",
       "      <td>55672697</td>\n",
       "      <td>4019</td>\n",
       "      <td>735A - Unwarranted alarm/defective condition o...</td>\n",
       "      <td>01/01/2013 12:01:49 AM</td>\n",
       "      <td>01/01/2013 12:06:27 AM</td>\n",
       "      <td>6.0</td>\n",
       "      <td>01/01/2013 12:24:56 AM</td>\n",
       "      <td>1 - More than initial alarm, less than Signal 7-5</td>\n",
       "      <td>1387.0</td>\n",
       "      <td>86 - Investigate</td>\n",
       "      <td>...</td>\n",
       "      <td>11385</td>\n",
       "      <td>5 - Queens</td>\n",
       "      <td>NaN</td>\n",
       "      <td>NaN</td>\n",
       "      <td>NaN</td>\n",
       "      <td>NaN</td>\n",
       "      <td>NaN</td>\n",
       "      <td>NaN</td>\n",
       "      <td>NaN</td>\n",
       "      <td>NaN</td>\n",
       "    </tr>\n",
       "  </tbody>\n",
       "</table>\n",
       "<p>5 rows × 24 columns</p>\n",
       "</div>"
      ],
      "text/plain": [
       "   IM_INCIDENT_KEY FIRE_BOX  \\\n",
       "0         55672688     2147   \n",
       "1         55672692     0818   \n",
       "2         55672693     9656   \n",
       "3         55672695     7412   \n",
       "4         55672697     4019   \n",
       "\n",
       "                                  INCIDENT_TYPE_DESC      INCIDENT_DATE_TIME  \\\n",
       "0                  300 - Rescue, EMS incident, other  01/01/2013 12:00:20 AM   \n",
       "1  735A - Unwarranted alarm/defective condition o...  01/01/2013 12:00:37 AM   \n",
       "2                  300 - Rescue, EMS incident, other  01/01/2013 12:01:17 AM   \n",
       "3                412 - Gas leak (natural gas or LPG)  01/01/2013 12:02:32 AM   \n",
       "4  735A - Unwarranted alarm/defective condition o...  01/01/2013 12:01:49 AM   \n",
       "\n",
       "        ARRIVAL_DATE_TIME  UNITS_ONSCENE LAST_UNIT_CLEARED_DATE_TIME  \\\n",
       "0  01/01/2013 12:14:23 AM            1.0      01/01/2013 12:20:06 AM   \n",
       "1  01/01/2013 12:09:03 AM            3.0      01/01/2013 12:30:06 AM   \n",
       "2  01/01/2013 12:04:55 AM            1.0      01/01/2013 12:15:18 AM   \n",
       "3  01/01/2013 12:07:48 AM            4.0      01/01/2013 12:40:11 AM   \n",
       "4  01/01/2013 12:06:27 AM            6.0      01/01/2013 12:24:56 AM   \n",
       "\n",
       "                                  HIGHEST_LEVEL_DESC  TOTAL_INCIDENT_DURATION  \\\n",
       "0  1 - More than initial alarm, less than Signal 7-5                   1186.0   \n",
       "1  1 - More than initial alarm, less than Signal 7-5                   1769.0   \n",
       "2  1 - More than initial alarm, less than Signal 7-5                    841.0   \n",
       "3  1 - More than initial alarm, less than Signal 7-5                   2259.0   \n",
       "4  1 - More than initial alarm, less than Signal 7-5                   1387.0   \n",
       "\n",
       "                                  ACTION_TAKEN1_DESC  \\\n",
       "0                           00 - Action taken, other   \n",
       "1                                   86 - Investigate   \n",
       "2                           00 - Action taken, other   \n",
       "3  44 - Hazardous materials leak control & contai...   \n",
       "4                                   86 - Investigate   \n",
       "\n",
       "              ...             ZIP_CODE   BOROUGH_DESC FLOOR  \\\n",
       "0             ...                10454      2 - Bronx   NaN   \n",
       "1             ...                10036  1 - Manhattan   NaN   \n",
       "2             ...                11418     5 - Queens   NaN   \n",
       "3             ...                11103     5 - Queens     1   \n",
       "4             ...                11385     5 - Queens   NaN   \n",
       "\n",
       "  CO_DETECTOR_PRESENT_DESC FIRE_ORIGIN_BELOW_GRADE_FLAG  \\\n",
       "0                      NaN                          NaN   \n",
       "1                      NaN                          NaN   \n",
       "2                      NaN                          NaN   \n",
       "3                      NaN                          NaN   \n",
       "4                      NaN                          NaN   \n",
       "\n",
       "  STORY_FIRE_ORIGIN_COUNT FIRE_SPREAD_DESC DETECTOR_PRESENCE_DESC  \\\n",
       "0                     NaN              NaN                    NaN   \n",
       "1                     NaN              NaN                    NaN   \n",
       "2                     NaN              NaN                    NaN   \n",
       "3                     NaN              NaN                    NaN   \n",
       "4                     NaN              NaN                    NaN   \n",
       "\n",
       "   AES_PRESENCE_DESC  STANDPIPE_SYS_PRESENT_FLAG  \n",
       "0                NaN                         NaN  \n",
       "1                NaN                         NaN  \n",
       "2                NaN                         NaN  \n",
       "3                NaN                         NaN  \n",
       "4                NaN                         NaN  \n",
       "\n",
       "[5 rows x 24 columns]"
      ]
     },
     "execution_count": 3,
     "metadata": {},
     "output_type": "execute_result"
    }
   ],
   "source": [
    "data.head()"
   ]
  },
  {
   "cell_type": "markdown",
   "metadata": {},
   "source": [
    "### Cleaning up the Data"
   ]
  },
  {
   "cell_type": "markdown",
   "metadata": {},
   "source": [
    "Time to clean up the data!\n",
    "\n",
    "Looks like not all the columns are not going to be useful for the exercise. I drop them here. "
   ]
  },
  {
   "cell_type": "code",
   "execution_count": 4,
   "metadata": {},
   "outputs": [],
   "source": [
    "data = data.drop(columns=['STANDPIPE_SYS_PRESENT_FLAG', 'AES_PRESENCE_DESC', 'DETECTOR_PRESENCE_DESC',\n",
    "                          'FIRE_SPREAD_DESC', 'STORY_FIRE_ORIGIN_COUNT', 'FIRE_ORIGIN_BELOW_GRADE_FLAG', 'FLOOR',\n",
    "                          'STREET_HIGHWAY', 'ACTION_TAKEN2_DESC', 'ACTION_TAKEN3_DESC', 'PROPERTY_USE_DESC'])"
   ]
  },
  {
   "cell_type": "markdown",
   "metadata": {},
   "source": [
    "Few columns have alphanumneric data. I'm only interested in the numeric data here; I can always look up what they mean later. "
   ]
  },
  {
   "cell_type": "code",
   "execution_count": 5,
   "metadata": {},
   "outputs": [],
   "source": [
    "data['INCIDENT_TYPE_DESC']= data['INCIDENT_TYPE_DESC'].str.split(pat = \"-\").str[0] \n",
    "data['HIGHEST_LEVEL_DESC'] = data['HIGHEST_LEVEL_DESC'].str.split(pat = \"-\").str[0]\n",
    "data['ACTION_TAKEN1_DESC'] = data['ACTION_TAKEN1_DESC'].str.split(pat = \"-\").str[0]\n",
    "data['BOROUGH_DESC'] = data['BOROUGH_DESC'].str.split(pat = \"-\").str[0]\n",
    "data['ZIP_CODE'] = data['ZIP_CODE'].str.split(pat = \"-\").str[0]"
   ]
  },
  {
   "cell_type": "code",
   "execution_count": 6,
   "metadata": {},
   "outputs": [],
   "source": [
    "#This probably is useful as numeric data. \n",
    "\n",
    "data['INCIDENT_TYPE_DESC'] = data['INCIDENT_TYPE_DESC'].str.split(pat = \"B\").str[0]\n",
    "data['INCIDENT_TYPE_DESC'] = data['INCIDENT_TYPE_DESC'].str.split(pat = \"A\").str[0]"
   ]
  },
  {
   "cell_type": "markdown",
   "metadata": {},
   "source": [
    "We have three columns that have `datetime` data. I use the `infer_datetime_format=True` option to speed up the function. "
   ]
  },
  {
   "cell_type": "code",
   "execution_count": 8,
   "metadata": {},
   "outputs": [
    {
     "name": "stdout",
     "output_type": "stream",
     "text": [
      "20.7 ms ± 6.92 ms per loop (mean ± std. dev. of 7 runs, 1 loop each)\n",
      "15 ms ± 3.42 ms per loop (mean ± std. dev. of 7 runs, 1 loop each)\n",
      "14.1 ms ± 2.29 ms per loop (mean ± std. dev. of 7 runs, 1 loop each)\n"
     ]
    }
   ],
   "source": [
    "# Convert Datetime data\n",
    "\n",
    "%timeit data['INCIDENT_DATE_TIME'] = pd.to_datetime(data.INCIDENT_DATE_TIME, infer_datetime_format=True)\n",
    "%timeit data['ARRIVAL_DATE_TIME'] = pd.to_datetime(data.ARRIVAL_DATE_TIME, infer_datetime_format=True)\n",
    "%timeit data['LAST_UNIT_CLEARED_DATE_TIME'] = pd.to_datetime(data.LAST_UNIT_CLEARED_DATE_TIME, infer_datetime_format=True)"
   ]
  },
  {
   "cell_type": "markdown",
   "metadata": {},
   "source": [
    "### Exporting Clean Data"
   ]
  },
  {
   "cell_type": "markdown",
   "metadata": {},
   "source": [
    "Good! Looks like we have cleaned up our data now. Let's visualize it first and then save it into a .csv that I can import later and start working from there. "
   ]
  },
  {
   "cell_type": "code",
   "execution_count": 9,
   "metadata": {},
   "outputs": [
    {
     "data": {
      "text/html": [
       "<div>\n",
       "<style scoped>\n",
       "    .dataframe tbody tr th:only-of-type {\n",
       "        vertical-align: middle;\n",
       "    }\n",
       "\n",
       "    .dataframe tbody tr th {\n",
       "        vertical-align: top;\n",
       "    }\n",
       "\n",
       "    .dataframe thead th {\n",
       "        text-align: right;\n",
       "    }\n",
       "</style>\n",
       "<table border=\"1\" class=\"dataframe\">\n",
       "  <thead>\n",
       "    <tr style=\"text-align: right;\">\n",
       "      <th></th>\n",
       "      <th>IM_INCIDENT_KEY</th>\n",
       "      <th>FIRE_BOX</th>\n",
       "      <th>INCIDENT_TYPE_DESC</th>\n",
       "      <th>INCIDENT_DATE_TIME</th>\n",
       "      <th>ARRIVAL_DATE_TIME</th>\n",
       "      <th>UNITS_ONSCENE</th>\n",
       "      <th>LAST_UNIT_CLEARED_DATE_TIME</th>\n",
       "      <th>HIGHEST_LEVEL_DESC</th>\n",
       "      <th>TOTAL_INCIDENT_DURATION</th>\n",
       "      <th>ACTION_TAKEN1_DESC</th>\n",
       "      <th>ZIP_CODE</th>\n",
       "      <th>BOROUGH_DESC</th>\n",
       "      <th>CO_DETECTOR_PRESENT_DESC</th>\n",
       "    </tr>\n",
       "  </thead>\n",
       "  <tbody>\n",
       "    <tr>\n",
       "      <th>0</th>\n",
       "      <td>55672688</td>\n",
       "      <td>2147</td>\n",
       "      <td>300</td>\n",
       "      <td>2013-01-01 00:00:20</td>\n",
       "      <td>2013-01-01 00:14:23</td>\n",
       "      <td>1.0</td>\n",
       "      <td>2013-01-01 00:20:06</td>\n",
       "      <td>1</td>\n",
       "      <td>1186.0</td>\n",
       "      <td>00</td>\n",
       "      <td>10454</td>\n",
       "      <td>2</td>\n",
       "      <td>NaN</td>\n",
       "    </tr>\n",
       "    <tr>\n",
       "      <th>1</th>\n",
       "      <td>55672692</td>\n",
       "      <td>0818</td>\n",
       "      <td>735</td>\n",
       "      <td>2013-01-01 00:00:37</td>\n",
       "      <td>2013-01-01 00:09:03</td>\n",
       "      <td>3.0</td>\n",
       "      <td>2013-01-01 00:30:06</td>\n",
       "      <td>1</td>\n",
       "      <td>1769.0</td>\n",
       "      <td>86</td>\n",
       "      <td>10036</td>\n",
       "      <td>1</td>\n",
       "      <td>NaN</td>\n",
       "    </tr>\n",
       "    <tr>\n",
       "      <th>2</th>\n",
       "      <td>55672693</td>\n",
       "      <td>9656</td>\n",
       "      <td>300</td>\n",
       "      <td>2013-01-01 00:01:17</td>\n",
       "      <td>2013-01-01 00:04:55</td>\n",
       "      <td>1.0</td>\n",
       "      <td>2013-01-01 00:15:18</td>\n",
       "      <td>1</td>\n",
       "      <td>841.0</td>\n",
       "      <td>00</td>\n",
       "      <td>11418</td>\n",
       "      <td>5</td>\n",
       "      <td>NaN</td>\n",
       "    </tr>\n",
       "    <tr>\n",
       "      <th>3</th>\n",
       "      <td>55672695</td>\n",
       "      <td>7412</td>\n",
       "      <td>412</td>\n",
       "      <td>2013-01-01 00:02:32</td>\n",
       "      <td>2013-01-01 00:07:48</td>\n",
       "      <td>4.0</td>\n",
       "      <td>2013-01-01 00:40:11</td>\n",
       "      <td>1</td>\n",
       "      <td>2259.0</td>\n",
       "      <td>44</td>\n",
       "      <td>11103</td>\n",
       "      <td>5</td>\n",
       "      <td>NaN</td>\n",
       "    </tr>\n",
       "    <tr>\n",
       "      <th>4</th>\n",
       "      <td>55672697</td>\n",
       "      <td>4019</td>\n",
       "      <td>735</td>\n",
       "      <td>2013-01-01 00:01:49</td>\n",
       "      <td>2013-01-01 00:06:27</td>\n",
       "      <td>6.0</td>\n",
       "      <td>2013-01-01 00:24:56</td>\n",
       "      <td>1</td>\n",
       "      <td>1387.0</td>\n",
       "      <td>86</td>\n",
       "      <td>11385</td>\n",
       "      <td>5</td>\n",
       "      <td>NaN</td>\n",
       "    </tr>\n",
       "  </tbody>\n",
       "</table>\n",
       "</div>"
      ],
      "text/plain": [
       "   IM_INCIDENT_KEY FIRE_BOX INCIDENT_TYPE_DESC  INCIDENT_DATE_TIME  \\\n",
       "0         55672688     2147               300  2013-01-01 00:00:20   \n",
       "1         55672692     0818                735 2013-01-01 00:00:37   \n",
       "2         55672693     9656               300  2013-01-01 00:01:17   \n",
       "3         55672695     7412               412  2013-01-01 00:02:32   \n",
       "4         55672697     4019                735 2013-01-01 00:01:49   \n",
       "\n",
       "    ARRIVAL_DATE_TIME  UNITS_ONSCENE LAST_UNIT_CLEARED_DATE_TIME  \\\n",
       "0 2013-01-01 00:14:23            1.0         2013-01-01 00:20:06   \n",
       "1 2013-01-01 00:09:03            3.0         2013-01-01 00:30:06   \n",
       "2 2013-01-01 00:04:55            1.0         2013-01-01 00:15:18   \n",
       "3 2013-01-01 00:07:48            4.0         2013-01-01 00:40:11   \n",
       "4 2013-01-01 00:06:27            6.0         2013-01-01 00:24:56   \n",
       "\n",
       "  HIGHEST_LEVEL_DESC  TOTAL_INCIDENT_DURATION ACTION_TAKEN1_DESC ZIP_CODE  \\\n",
       "0                 1                    1186.0                00     10454   \n",
       "1                 1                    1769.0                86     10036   \n",
       "2                 1                     841.0                00     11418   \n",
       "3                 1                    2259.0                44     11103   \n",
       "4                 1                    1387.0                86     11385   \n",
       "\n",
       "  BOROUGH_DESC CO_DETECTOR_PRESENT_DESC  \n",
       "0           2                       NaN  \n",
       "1           1                       NaN  \n",
       "2           5                       NaN  \n",
       "3           5                       NaN  \n",
       "4           5                       NaN  "
      ]
     },
     "execution_count": 9,
     "metadata": {},
     "output_type": "execute_result"
    }
   ],
   "source": [
    "data.head()"
   ]
  },
  {
   "cell_type": "code",
   "execution_count": 10,
   "metadata": {},
   "outputs": [],
   "source": [
    "data.to_csv(\"clean_data.csv\", index=False)"
   ]
  },
  {
   "cell_type": "code",
   "execution_count": 11,
   "metadata": {},
   "outputs": [],
   "source": [
    "# Can start from here later. \n",
    "\n",
    "import pandas as pd\n",
    "\n",
    "data_mod = pd.read_csv(\"clean_data.csv\", low_memory=False)\n",
    "#                        , parse_dates=['INCIDENT_DATE_TIME ', 'ARRIVAL_DATE_TIME', 'LAST_UNIT_CLEARED_DATE_TIME']\n",
    "#                        , infer_datetime_format=True)"
   ]
  },
  {
   "cell_type": "code",
   "execution_count": 12,
   "metadata": {},
   "outputs": [],
   "source": [
    "data = data_mod.copy()"
   ]
  },
  {
   "cell_type": "code",
   "execution_count": 13,
   "metadata": {},
   "outputs": [
    {
     "data": {
      "text/html": [
       "<div>\n",
       "<style scoped>\n",
       "    .dataframe tbody tr th:only-of-type {\n",
       "        vertical-align: middle;\n",
       "    }\n",
       "\n",
       "    .dataframe tbody tr th {\n",
       "        vertical-align: top;\n",
       "    }\n",
       "\n",
       "    .dataframe thead th {\n",
       "        text-align: right;\n",
       "    }\n",
       "</style>\n",
       "<table border=\"1\" class=\"dataframe\">\n",
       "  <thead>\n",
       "    <tr style=\"text-align: right;\">\n",
       "      <th></th>\n",
       "      <th>IM_INCIDENT_KEY</th>\n",
       "      <th>FIRE_BOX</th>\n",
       "      <th>INCIDENT_TYPE_DESC</th>\n",
       "      <th>INCIDENT_DATE_TIME</th>\n",
       "      <th>ARRIVAL_DATE_TIME</th>\n",
       "      <th>UNITS_ONSCENE</th>\n",
       "      <th>LAST_UNIT_CLEARED_DATE_TIME</th>\n",
       "      <th>HIGHEST_LEVEL_DESC</th>\n",
       "      <th>TOTAL_INCIDENT_DURATION</th>\n",
       "      <th>ACTION_TAKEN1_DESC</th>\n",
       "      <th>ZIP_CODE</th>\n",
       "      <th>BOROUGH_DESC</th>\n",
       "      <th>CO_DETECTOR_PRESENT_DESC</th>\n",
       "    </tr>\n",
       "  </thead>\n",
       "  <tbody>\n",
       "    <tr>\n",
       "      <th>0</th>\n",
       "      <td>55672688</td>\n",
       "      <td>2147</td>\n",
       "      <td>300</td>\n",
       "      <td>2013-01-01 00:00:20</td>\n",
       "      <td>2013-01-01 00:14:23</td>\n",
       "      <td>1.0</td>\n",
       "      <td>2013-01-01 00:20:06</td>\n",
       "      <td>1.0</td>\n",
       "      <td>1186.0</td>\n",
       "      <td>0</td>\n",
       "      <td>10454.0</td>\n",
       "      <td>2</td>\n",
       "      <td>NaN</td>\n",
       "    </tr>\n",
       "    <tr>\n",
       "      <th>1</th>\n",
       "      <td>55672692</td>\n",
       "      <td>0818</td>\n",
       "      <td>735</td>\n",
       "      <td>2013-01-01 00:00:37</td>\n",
       "      <td>2013-01-01 00:09:03</td>\n",
       "      <td>3.0</td>\n",
       "      <td>2013-01-01 00:30:06</td>\n",
       "      <td>1.0</td>\n",
       "      <td>1769.0</td>\n",
       "      <td>86</td>\n",
       "      <td>10036.0</td>\n",
       "      <td>1</td>\n",
       "      <td>NaN</td>\n",
       "    </tr>\n",
       "    <tr>\n",
       "      <th>2</th>\n",
       "      <td>55672693</td>\n",
       "      <td>9656</td>\n",
       "      <td>300</td>\n",
       "      <td>2013-01-01 00:01:17</td>\n",
       "      <td>2013-01-01 00:04:55</td>\n",
       "      <td>1.0</td>\n",
       "      <td>2013-01-01 00:15:18</td>\n",
       "      <td>1.0</td>\n",
       "      <td>841.0</td>\n",
       "      <td>0</td>\n",
       "      <td>11418.0</td>\n",
       "      <td>5</td>\n",
       "      <td>NaN</td>\n",
       "    </tr>\n",
       "    <tr>\n",
       "      <th>3</th>\n",
       "      <td>55672695</td>\n",
       "      <td>7412</td>\n",
       "      <td>412</td>\n",
       "      <td>2013-01-01 00:02:32</td>\n",
       "      <td>2013-01-01 00:07:48</td>\n",
       "      <td>4.0</td>\n",
       "      <td>2013-01-01 00:40:11</td>\n",
       "      <td>1.0</td>\n",
       "      <td>2259.0</td>\n",
       "      <td>44</td>\n",
       "      <td>11103.0</td>\n",
       "      <td>5</td>\n",
       "      <td>NaN</td>\n",
       "    </tr>\n",
       "    <tr>\n",
       "      <th>4</th>\n",
       "      <td>55672697</td>\n",
       "      <td>4019</td>\n",
       "      <td>735</td>\n",
       "      <td>2013-01-01 00:01:49</td>\n",
       "      <td>2013-01-01 00:06:27</td>\n",
       "      <td>6.0</td>\n",
       "      <td>2013-01-01 00:24:56</td>\n",
       "      <td>1.0</td>\n",
       "      <td>1387.0</td>\n",
       "      <td>86</td>\n",
       "      <td>11385.0</td>\n",
       "      <td>5</td>\n",
       "      <td>NaN</td>\n",
       "    </tr>\n",
       "  </tbody>\n",
       "</table>\n",
       "</div>"
      ],
      "text/plain": [
       "   IM_INCIDENT_KEY FIRE_BOX  INCIDENT_TYPE_DESC   INCIDENT_DATE_TIME  \\\n",
       "0         55672688     2147                 300  2013-01-01 00:00:20   \n",
       "1         55672692     0818                 735  2013-01-01 00:00:37   \n",
       "2         55672693     9656                 300  2013-01-01 00:01:17   \n",
       "3         55672695     7412                 412  2013-01-01 00:02:32   \n",
       "4         55672697     4019                 735  2013-01-01 00:01:49   \n",
       "\n",
       "     ARRIVAL_DATE_TIME  UNITS_ONSCENE LAST_UNIT_CLEARED_DATE_TIME  \\\n",
       "0  2013-01-01 00:14:23            1.0         2013-01-01 00:20:06   \n",
       "1  2013-01-01 00:09:03            3.0         2013-01-01 00:30:06   \n",
       "2  2013-01-01 00:04:55            1.0         2013-01-01 00:15:18   \n",
       "3  2013-01-01 00:07:48            4.0         2013-01-01 00:40:11   \n",
       "4  2013-01-01 00:06:27            6.0         2013-01-01 00:24:56   \n",
       "\n",
       "   HIGHEST_LEVEL_DESC  TOTAL_INCIDENT_DURATION  ACTION_TAKEN1_DESC  ZIP_CODE  \\\n",
       "0                 1.0                   1186.0                   0   10454.0   \n",
       "1                 1.0                   1769.0                  86   10036.0   \n",
       "2                 1.0                    841.0                   0   11418.0   \n",
       "3                 1.0                   2259.0                  44   11103.0   \n",
       "4                 1.0                   1387.0                  86   11385.0   \n",
       "\n",
       "   BOROUGH_DESC CO_DETECTOR_PRESENT_DESC  \n",
       "0             2                      NaN  \n",
       "1             1                      NaN  \n",
       "2             5                      NaN  \n",
       "3             5                      NaN  \n",
       "4             5                      NaN  "
      ]
     },
     "execution_count": 13,
     "metadata": {},
     "output_type": "execute_result"
    }
   ],
   "source": [
    "data.head()"
   ]
  },
  {
   "cell_type": "code",
   "execution_count": 14,
   "metadata": {},
   "outputs": [
    {
     "name": "stdout",
     "output_type": "stream",
     "text": [
      "22.5 ms ± 7.76 ms per loop (mean ± std. dev. of 7 runs, 1 loop each)\n",
      "17.3 ms ± 792 µs per loop (mean ± std. dev. of 7 runs, 1 loop each)\n",
      "15.6 ms ± 1.52 ms per loop (mean ± std. dev. of 7 runs, 1 loop each)\n"
     ]
    }
   ],
   "source": [
    "# Convert Datetime data\n",
    "\n",
    "%timeit data['INCIDENT_DATE_TIME'] = pd.to_datetime(data.INCIDENT_DATE_TIME, infer_datetime_format=True)\n",
    "%timeit data['ARRIVAL_DATE_TIME'] = pd.to_datetime(data.ARRIVAL_DATE_TIME, infer_datetime_format=True)\n",
    "%timeit data['LAST_UNIT_CLEARED_DATE_TIME'] = pd.to_datetime(data.LAST_UNIT_CLEARED_DATE_TIME, infer_datetime_format=True)\n"
   ]
  },
  {
   "cell_type": "code",
   "execution_count": 15,
   "metadata": {},
   "outputs": [
    {
     "data": {
      "text/plain": [
       "IM_INCIDENT_KEY                         int64\n",
       "FIRE_BOX                               object\n",
       "INCIDENT_TYPE_DESC                      int64\n",
       "INCIDENT_DATE_TIME             datetime64[ns]\n",
       "ARRIVAL_DATE_TIME              datetime64[ns]\n",
       "UNITS_ONSCENE                         float64\n",
       "LAST_UNIT_CLEARED_DATE_TIME    datetime64[ns]\n",
       "HIGHEST_LEVEL_DESC                    float64\n",
       "TOTAL_INCIDENT_DURATION               float64\n",
       "ACTION_TAKEN1_DESC                      int64\n",
       "ZIP_CODE                              float64\n",
       "BOROUGH_DESC                            int64\n",
       "CO_DETECTOR_PRESENT_DESC               object\n",
       "dtype: object"
      ]
     },
     "execution_count": 15,
     "metadata": {},
     "output_type": "execute_result"
    }
   ],
   "source": [
    "data.dtypes"
   ]
  },
  {
   "cell_type": "markdown",
   "metadata": {},
   "source": [
    "## Problems"
   ]
  },
  {
   "cell_type": "markdown",
   "metadata": {},
   "source": [
    "### 1. What proportion of FDNY responses in this dataset correspond to the most common type of incident?"
   ]
  },
  {
   "cell_type": "code",
   "execution_count": 16,
   "metadata": {},
   "outputs": [
    {
     "data": {
      "text/plain": [
       "300    823378\n",
       "651    148924\n",
       "735    118926\n",
       "353    118264\n",
       "710    117864\n",
       "Name: INCIDENT_TYPE_DESC, dtype: int64"
      ]
     },
     "execution_count": 16,
     "metadata": {},
     "output_type": "execute_result"
    }
   ],
   "source": [
    "data['INCIDENT_TYPE_DESC'].value_counts()[:5]"
   ]
  },
  {
   "cell_type": "code",
   "execution_count": 17,
   "metadata": {},
   "outputs": [
    {
     "data": {
      "text/plain": [
       "108362"
      ]
     },
     "execution_count": 17,
     "metadata": {},
     "output_type": "execute_result"
    }
   ],
   "source": [
    "most_freq_incident = (data['INCIDENT_TYPE_DESC'] == 412).sum()\n",
    "most_freq_incident"
   ]
  },
  {
   "cell_type": "markdown",
   "metadata": {},
   "source": [
    "Look like the most common incident is No. 412, happening 102410 times"
   ]
  },
  {
   "cell_type": "code",
   "execution_count": 18,
   "metadata": {},
   "outputs": [],
   "source": [
    "count_row, count_column = data.shape"
   ]
  },
  {
   "cell_type": "code",
   "execution_count": 19,
   "metadata": {},
   "outputs": [
    {
     "data": {
      "text/plain": [
       "2277779"
      ]
     },
     "execution_count": 19,
     "metadata": {},
     "output_type": "execute_result"
    }
   ],
   "source": [
    "#Total number of data points. \n",
    "\n",
    "count_row"
   ]
  },
  {
   "cell_type": "code",
   "execution_count": 20,
   "metadata": {},
   "outputs": [
    {
     "data": {
      "text/plain": [
       "0.04757353544834683"
      ]
     },
     "execution_count": 20,
     "metadata": {},
     "output_type": "execute_result"
    }
   ],
   "source": [
    "#Proportion of most common incident\n",
    "\n",
    "prop_1 = most_freq_incident/count_row\n",
    "prop_1"
   ]
  },
  {
   "cell_type": "markdown",
   "metadata": {},
   "source": [
    "### 2. What is the ratio of the average number of units that arrive to a scene of an incident classified as '111 - Building fire' to the number that arrive for '651 - Smoke scare, odor of smoke'?"
   ]
  },
  {
   "cell_type": "code",
   "execution_count": 21,
   "metadata": {},
   "outputs": [
    {
     "data": {
      "text/html": [
       "<div>\n",
       "<style scoped>\n",
       "    .dataframe tbody tr th:only-of-type {\n",
       "        vertical-align: middle;\n",
       "    }\n",
       "\n",
       "    .dataframe tbody tr th {\n",
       "        vertical-align: top;\n",
       "    }\n",
       "\n",
       "    .dataframe thead th {\n",
       "        text-align: right;\n",
       "    }\n",
       "</style>\n",
       "<table border=\"1\" class=\"dataframe\">\n",
       "  <thead>\n",
       "    <tr style=\"text-align: right;\">\n",
       "      <th></th>\n",
       "      <th>IM_INCIDENT_KEY</th>\n",
       "      <th>FIRE_BOX</th>\n",
       "      <th>INCIDENT_TYPE_DESC</th>\n",
       "      <th>INCIDENT_DATE_TIME</th>\n",
       "      <th>ARRIVAL_DATE_TIME</th>\n",
       "      <th>UNITS_ONSCENE</th>\n",
       "      <th>LAST_UNIT_CLEARED_DATE_TIME</th>\n",
       "      <th>HIGHEST_LEVEL_DESC</th>\n",
       "      <th>TOTAL_INCIDENT_DURATION</th>\n",
       "      <th>ACTION_TAKEN1_DESC</th>\n",
       "      <th>ZIP_CODE</th>\n",
       "      <th>BOROUGH_DESC</th>\n",
       "      <th>CO_DETECTOR_PRESENT_DESC</th>\n",
       "    </tr>\n",
       "  </thead>\n",
       "  <tbody>\n",
       "    <tr>\n",
       "      <th>90</th>\n",
       "      <td>55672965</td>\n",
       "      <td>2595</td>\n",
       "      <td>111</td>\n",
       "      <td>2013-01-01 00:58:10</td>\n",
       "      <td>2013-01-01 01:00:50</td>\n",
       "      <td>15.0</td>\n",
       "      <td>2013-01-01 04:15:20</td>\n",
       "      <td>7.0</td>\n",
       "      <td>11830.0</td>\n",
       "      <td>11</td>\n",
       "      <td>11219.0</td>\n",
       "      <td>4</td>\n",
       "      <td>NaN</td>\n",
       "    </tr>\n",
       "    <tr>\n",
       "      <th>198</th>\n",
       "      <td>55673299</td>\n",
       "      <td>2591</td>\n",
       "      <td>111</td>\n",
       "      <td>2013-01-01 02:22:56</td>\n",
       "      <td>2013-01-01 02:25:23</td>\n",
       "      <td>9.0</td>\n",
       "      <td>2013-01-01 07:29:44</td>\n",
       "      <td>7.0</td>\n",
       "      <td>18408.0</td>\n",
       "      <td>11</td>\n",
       "      <td>10456.0</td>\n",
       "      <td>2</td>\n",
       "      <td>NaN</td>\n",
       "    </tr>\n",
       "    <tr>\n",
       "      <th>439</th>\n",
       "      <td>55673870</td>\n",
       "      <td>1601</td>\n",
       "      <td>111</td>\n",
       "      <td>2013-01-01 06:20:49</td>\n",
       "      <td>2013-01-01 06:26:13</td>\n",
       "      <td>23.0</td>\n",
       "      <td>2013-01-01 10:32:28</td>\n",
       "      <td>2.0</td>\n",
       "      <td>15099.0</td>\n",
       "      <td>11</td>\n",
       "      <td>10030.0</td>\n",
       "      <td>1</td>\n",
       "      <td>NaN</td>\n",
       "    </tr>\n",
       "    <tr>\n",
       "      <th>491</th>\n",
       "      <td>55674012</td>\n",
       "      <td>7973</td>\n",
       "      <td>111</td>\n",
       "      <td>2013-01-01 07:59:48</td>\n",
       "      <td>2013-01-01 08:03:33</td>\n",
       "      <td>6.0</td>\n",
       "      <td>2013-01-01 08:19:37</td>\n",
       "      <td>1.0</td>\n",
       "      <td>1189.0</td>\n",
       "      <td>11</td>\n",
       "      <td>11373.0</td>\n",
       "      <td>5</td>\n",
       "      <td>NaN</td>\n",
       "    </tr>\n",
       "    <tr>\n",
       "      <th>568</th>\n",
       "      <td>55674170</td>\n",
       "      <td>1726</td>\n",
       "      <td>111</td>\n",
       "      <td>2013-01-01 09:47:27</td>\n",
       "      <td>2013-01-01 09:49:25</td>\n",
       "      <td>13.0</td>\n",
       "      <td>2013-01-01 11:11:42</td>\n",
       "      <td>7.0</td>\n",
       "      <td>5055.0</td>\n",
       "      <td>11</td>\n",
       "      <td>11207.0</td>\n",
       "      <td>4</td>\n",
       "      <td>NaN</td>\n",
       "    </tr>\n",
       "  </tbody>\n",
       "</table>\n",
       "</div>"
      ],
      "text/plain": [
       "     IM_INCIDENT_KEY FIRE_BOX  INCIDENT_TYPE_DESC  INCIDENT_DATE_TIME  \\\n",
       "90          55672965     2595                 111 2013-01-01 00:58:10   \n",
       "198         55673299     2591                 111 2013-01-01 02:22:56   \n",
       "439         55673870     1601                 111 2013-01-01 06:20:49   \n",
       "491         55674012     7973                 111 2013-01-01 07:59:48   \n",
       "568         55674170     1726                 111 2013-01-01 09:47:27   \n",
       "\n",
       "      ARRIVAL_DATE_TIME  UNITS_ONSCENE LAST_UNIT_CLEARED_DATE_TIME  \\\n",
       "90  2013-01-01 01:00:50           15.0         2013-01-01 04:15:20   \n",
       "198 2013-01-01 02:25:23            9.0         2013-01-01 07:29:44   \n",
       "439 2013-01-01 06:26:13           23.0         2013-01-01 10:32:28   \n",
       "491 2013-01-01 08:03:33            6.0         2013-01-01 08:19:37   \n",
       "568 2013-01-01 09:49:25           13.0         2013-01-01 11:11:42   \n",
       "\n",
       "     HIGHEST_LEVEL_DESC  TOTAL_INCIDENT_DURATION  ACTION_TAKEN1_DESC  \\\n",
       "90                  7.0                  11830.0                  11   \n",
       "198                 7.0                  18408.0                  11   \n",
       "439                 2.0                  15099.0                  11   \n",
       "491                 1.0                   1189.0                  11   \n",
       "568                 7.0                   5055.0                  11   \n",
       "\n",
       "     ZIP_CODE  BOROUGH_DESC CO_DETECTOR_PRESENT_DESC  \n",
       "90    11219.0             4                      NaN  \n",
       "198   10456.0             2                      NaN  \n",
       "439   10030.0             1                      NaN  \n",
       "491   11373.0             5                      NaN  \n",
       "568   11207.0             4                      NaN  "
      ]
     },
     "execution_count": 21,
     "metadata": {},
     "output_type": "execute_result"
    }
   ],
   "source": [
    "sel1 = data.loc[(data['INCIDENT_TYPE_DESC'] == 111)]\n",
    "sel1.head()"
   ]
  },
  {
   "cell_type": "code",
   "execution_count": 22,
   "metadata": {},
   "outputs": [
    {
     "data": {
      "text/html": [
       "<div>\n",
       "<style scoped>\n",
       "    .dataframe tbody tr th:only-of-type {\n",
       "        vertical-align: middle;\n",
       "    }\n",
       "\n",
       "    .dataframe tbody tr th {\n",
       "        vertical-align: top;\n",
       "    }\n",
       "\n",
       "    .dataframe thead th {\n",
       "        text-align: right;\n",
       "    }\n",
       "</style>\n",
       "<table border=\"1\" class=\"dataframe\">\n",
       "  <thead>\n",
       "    <tr style=\"text-align: right;\">\n",
       "      <th></th>\n",
       "      <th>IM_INCIDENT_KEY</th>\n",
       "      <th>FIRE_BOX</th>\n",
       "      <th>INCIDENT_TYPE_DESC</th>\n",
       "      <th>INCIDENT_DATE_TIME</th>\n",
       "      <th>ARRIVAL_DATE_TIME</th>\n",
       "      <th>UNITS_ONSCENE</th>\n",
       "      <th>LAST_UNIT_CLEARED_DATE_TIME</th>\n",
       "      <th>HIGHEST_LEVEL_DESC</th>\n",
       "      <th>TOTAL_INCIDENT_DURATION</th>\n",
       "      <th>ACTION_TAKEN1_DESC</th>\n",
       "      <th>ZIP_CODE</th>\n",
       "      <th>BOROUGH_DESC</th>\n",
       "      <th>CO_DETECTOR_PRESENT_DESC</th>\n",
       "    </tr>\n",
       "  </thead>\n",
       "  <tbody>\n",
       "    <tr>\n",
       "      <th>7</th>\n",
       "      <td>55672700</td>\n",
       "      <td>9604</td>\n",
       "      <td>651</td>\n",
       "      <td>2013-01-01 00:04:03</td>\n",
       "      <td>2013-01-01 00:06:19</td>\n",
       "      <td>4.0</td>\n",
       "      <td>2013-01-01 00:11:21</td>\n",
       "      <td>1.0</td>\n",
       "      <td>438.0</td>\n",
       "      <td>86</td>\n",
       "      <td>11418.0</td>\n",
       "      <td>5</td>\n",
       "      <td>NaN</td>\n",
       "    </tr>\n",
       "    <tr>\n",
       "      <th>17</th>\n",
       "      <td>55672730</td>\n",
       "      <td>3219</td>\n",
       "      <td>651</td>\n",
       "      <td>2013-01-01 00:10:37</td>\n",
       "      <td>2013-01-01 00:13:49</td>\n",
       "      <td>6.0</td>\n",
       "      <td>2013-01-01 00:24:12</td>\n",
       "      <td>1.0</td>\n",
       "      <td>815.0</td>\n",
       "      <td>0</td>\n",
       "      <td>10462.0</td>\n",
       "      <td>2</td>\n",
       "      <td>NaN</td>\n",
       "    </tr>\n",
       "    <tr>\n",
       "      <th>19</th>\n",
       "      <td>55672739</td>\n",
       "      <td>2774</td>\n",
       "      <td>651</td>\n",
       "      <td>2013-01-01 00:11:03</td>\n",
       "      <td>2013-01-01 00:16:49</td>\n",
       "      <td>5.0</td>\n",
       "      <td>2013-01-01 00:27:46</td>\n",
       "      <td>1.0</td>\n",
       "      <td>1003.0</td>\n",
       "      <td>0</td>\n",
       "      <td>10452.0</td>\n",
       "      <td>2</td>\n",
       "      <td>NaN</td>\n",
       "    </tr>\n",
       "    <tr>\n",
       "      <th>22</th>\n",
       "      <td>55672751</td>\n",
       "      <td>2302</td>\n",
       "      <td>651</td>\n",
       "      <td>2013-01-01 00:15:52</td>\n",
       "      <td>2013-01-01 00:19:21</td>\n",
       "      <td>6.0</td>\n",
       "      <td>2013-01-01 00:31:50</td>\n",
       "      <td>1.0</td>\n",
       "      <td>958.0</td>\n",
       "      <td>0</td>\n",
       "      <td>10451.0</td>\n",
       "      <td>2</td>\n",
       "      <td>NaN</td>\n",
       "    </tr>\n",
       "    <tr>\n",
       "      <th>37</th>\n",
       "      <td>55672824</td>\n",
       "      <td>3734</td>\n",
       "      <td>651</td>\n",
       "      <td>2013-01-01 00:25:37</td>\n",
       "      <td>2013-01-01 00:28:31</td>\n",
       "      <td>6.0</td>\n",
       "      <td>2013-01-01 00:52:24</td>\n",
       "      <td>1.0</td>\n",
       "      <td>1607.0</td>\n",
       "      <td>0</td>\n",
       "      <td>11226.0</td>\n",
       "      <td>4</td>\n",
       "      <td>NaN</td>\n",
       "    </tr>\n",
       "  </tbody>\n",
       "</table>\n",
       "</div>"
      ],
      "text/plain": [
       "    IM_INCIDENT_KEY FIRE_BOX  INCIDENT_TYPE_DESC  INCIDENT_DATE_TIME  \\\n",
       "7          55672700     9604                 651 2013-01-01 00:04:03   \n",
       "17         55672730     3219                 651 2013-01-01 00:10:37   \n",
       "19         55672739     2774                 651 2013-01-01 00:11:03   \n",
       "22         55672751     2302                 651 2013-01-01 00:15:52   \n",
       "37         55672824     3734                 651 2013-01-01 00:25:37   \n",
       "\n",
       "     ARRIVAL_DATE_TIME  UNITS_ONSCENE LAST_UNIT_CLEARED_DATE_TIME  \\\n",
       "7  2013-01-01 00:06:19            4.0         2013-01-01 00:11:21   \n",
       "17 2013-01-01 00:13:49            6.0         2013-01-01 00:24:12   \n",
       "19 2013-01-01 00:16:49            5.0         2013-01-01 00:27:46   \n",
       "22 2013-01-01 00:19:21            6.0         2013-01-01 00:31:50   \n",
       "37 2013-01-01 00:28:31            6.0         2013-01-01 00:52:24   \n",
       "\n",
       "    HIGHEST_LEVEL_DESC  TOTAL_INCIDENT_DURATION  ACTION_TAKEN1_DESC  ZIP_CODE  \\\n",
       "7                  1.0                    438.0                  86   11418.0   \n",
       "17                 1.0                    815.0                   0   10462.0   \n",
       "19                 1.0                   1003.0                   0   10452.0   \n",
       "22                 1.0                    958.0                   0   10451.0   \n",
       "37                 1.0                   1607.0                   0   11226.0   \n",
       "\n",
       "    BOROUGH_DESC CO_DETECTOR_PRESENT_DESC  \n",
       "7              5                      NaN  \n",
       "17             2                      NaN  \n",
       "19             2                      NaN  \n",
       "22             2                      NaN  \n",
       "37             4                      NaN  "
      ]
     },
     "execution_count": 22,
     "metadata": {},
     "output_type": "execute_result"
    }
   ],
   "source": [
    "sel2 = data.loc[(data['INCIDENT_TYPE_DESC'] == 651)]\n",
    "sel2.head()"
   ]
  },
  {
   "cell_type": "code",
   "execution_count": 23,
   "metadata": {},
   "outputs": [
    {
     "data": {
      "text/plain": [
       "2.7597595139775324"
      ]
     },
     "execution_count": 23,
     "metadata": {},
     "output_type": "execute_result"
    }
   ],
   "source": [
    "mean_111 = sel1['UNITS_ONSCENE'].mean()\n",
    "mean_651 = sel2['UNITS_ONSCENE'].mean()\n",
    "\n",
    "prop_2 = mean_111/mean_651\n",
    "prop_2"
   ]
  },
  {
   "cell_type": "markdown",
   "metadata": {},
   "source": [
    "### 3. How many times more likely is an incident in Staten Island a false call compared to in Manhattan? The answer should be the ratio of Staten Island false call rate to Manhattan false call rate. A false call is an incident for which 'INCIDENT_TYPE_DESC' is '710 - Malicious, mischievous false call, other'."
   ]
  },
  {
   "cell_type": "code",
   "execution_count": 24,
   "metadata": {},
   "outputs": [
    {
     "data": {
      "text/plain": [
       "(117864, 13)"
      ]
     },
     "execution_count": 24,
     "metadata": {},
     "output_type": "execute_result"
    }
   ],
   "source": [
    "sel3 = data.loc[(data['INCIDENT_TYPE_DESC'] == 710)]\n",
    "sel3.head()\n",
    "sel3.shape "
   ]
  },
  {
   "cell_type": "markdown",
   "metadata": {},
   "source": [
    "So, we don't have many false calls anyway. "
   ]
  },
  {
   "cell_type": "markdown",
   "metadata": {},
   "source": [
    "There was some information lost in converting the last row (BOROUGH_DESC) to just numbers. I add context here: \n",
    "\n",
    "1. Manhattan\n",
    "2. Bronx\n",
    "3. Staten Island\n",
    "4. Brooklyn\n",
    "5. Queens"
   ]
  },
  {
   "cell_type": "code",
   "execution_count": 25,
   "metadata": {},
   "outputs": [],
   "source": [
    "manhattan_false_calls = (sel3['BOROUGH_DESC'] == 1).sum()"
   ]
  },
  {
   "cell_type": "code",
   "execution_count": 26,
   "metadata": {},
   "outputs": [
    {
     "data": {
      "text/plain": [
       "25240"
      ]
     },
     "execution_count": 26,
     "metadata": {},
     "output_type": "execute_result"
    }
   ],
   "source": [
    "manhattan_false_calls"
   ]
  },
  {
   "cell_type": "code",
   "execution_count": 27,
   "metadata": {},
   "outputs": [],
   "source": [
    "staten_island_false_calls = (sel3['BOROUGH_DESC'] == 3).sum()"
   ]
  },
  {
   "cell_type": "code",
   "execution_count": 28,
   "metadata": {},
   "outputs": [
    {
     "data": {
      "text/plain": [
       "8276"
      ]
     },
     "execution_count": 28,
     "metadata": {},
     "output_type": "execute_result"
    }
   ],
   "source": [
    "staten_island_false_calls"
   ]
  },
  {
   "cell_type": "code",
   "execution_count": 29,
   "metadata": {},
   "outputs": [
    {
     "data": {
      "text/plain": [
       "0.327892234548336"
      ]
     },
     "execution_count": 29,
     "metadata": {},
     "output_type": "execute_result"
    }
   ],
   "source": [
    "prop_3= staten_island_false_calls/manhattan_false_calls\n",
    "prop_3"
   ]
  },
  {
   "cell_type": "markdown",
   "metadata": {},
   "source": [
    "### 4. Check the distribution of the number of minutes it takes between the time a '111 - Building fire' incident has been logged into the Computer Aided Dispatch system and the time at which the first unit arrives on scene. What is the third quartile of that distribution. Note: the number of minutes can be fractional (ie, do not round)."
   ]
  },
  {
   "cell_type": "code",
   "execution_count": 30,
   "metadata": {},
   "outputs": [],
   "source": [
    "sel1.head()\n",
    "pd.options.mode.chained_assignment = None #Reomve the flag for appending a new column. "
   ]
  },
  {
   "cell_type": "code",
   "execution_count": 31,
   "metadata": {},
   "outputs": [],
   "source": [
    "sel1['ARRIVAL_TIME'] = sel1['ARRIVAL_DATE_TIME'] - sel1['INCIDENT_DATE_TIME']"
   ]
  },
  {
   "cell_type": "code",
   "execution_count": 32,
   "metadata": {},
   "outputs": [],
   "source": [
    "#Converting this to numerical minutes. \n",
    "\n",
    "sel1['ARRIVAL_TIME_IN_MINS'] = sel1['ARRIVAL_TIME'].dt.total_seconds().div(60).astype(float)"
   ]
  },
  {
   "cell_type": "code",
   "execution_count": 33,
   "metadata": {},
   "outputs": [
    {
     "data": {
      "text/html": [
       "<div>\n",
       "<style scoped>\n",
       "    .dataframe tbody tr th:only-of-type {\n",
       "        vertical-align: middle;\n",
       "    }\n",
       "\n",
       "    .dataframe tbody tr th {\n",
       "        vertical-align: top;\n",
       "    }\n",
       "\n",
       "    .dataframe thead th {\n",
       "        text-align: right;\n",
       "    }\n",
       "</style>\n",
       "<table border=\"1\" class=\"dataframe\">\n",
       "  <thead>\n",
       "    <tr style=\"text-align: right;\">\n",
       "      <th></th>\n",
       "      <th>IM_INCIDENT_KEY</th>\n",
       "      <th>FIRE_BOX</th>\n",
       "      <th>INCIDENT_TYPE_DESC</th>\n",
       "      <th>INCIDENT_DATE_TIME</th>\n",
       "      <th>ARRIVAL_DATE_TIME</th>\n",
       "      <th>UNITS_ONSCENE</th>\n",
       "      <th>LAST_UNIT_CLEARED_DATE_TIME</th>\n",
       "      <th>HIGHEST_LEVEL_DESC</th>\n",
       "      <th>TOTAL_INCIDENT_DURATION</th>\n",
       "      <th>ACTION_TAKEN1_DESC</th>\n",
       "      <th>ZIP_CODE</th>\n",
       "      <th>BOROUGH_DESC</th>\n",
       "      <th>CO_DETECTOR_PRESENT_DESC</th>\n",
       "      <th>ARRIVAL_TIME</th>\n",
       "      <th>ARRIVAL_TIME_IN_MINS</th>\n",
       "    </tr>\n",
       "  </thead>\n",
       "  <tbody>\n",
       "    <tr>\n",
       "      <th>90</th>\n",
       "      <td>55672965</td>\n",
       "      <td>2595</td>\n",
       "      <td>111</td>\n",
       "      <td>2013-01-01 00:58:10</td>\n",
       "      <td>2013-01-01 01:00:50</td>\n",
       "      <td>15.0</td>\n",
       "      <td>2013-01-01 04:15:20</td>\n",
       "      <td>7.0</td>\n",
       "      <td>11830.0</td>\n",
       "      <td>11</td>\n",
       "      <td>11219.0</td>\n",
       "      <td>4</td>\n",
       "      <td>NaN</td>\n",
       "      <td>00:02:40</td>\n",
       "      <td>2.666667</td>\n",
       "    </tr>\n",
       "    <tr>\n",
       "      <th>198</th>\n",
       "      <td>55673299</td>\n",
       "      <td>2591</td>\n",
       "      <td>111</td>\n",
       "      <td>2013-01-01 02:22:56</td>\n",
       "      <td>2013-01-01 02:25:23</td>\n",
       "      <td>9.0</td>\n",
       "      <td>2013-01-01 07:29:44</td>\n",
       "      <td>7.0</td>\n",
       "      <td>18408.0</td>\n",
       "      <td>11</td>\n",
       "      <td>10456.0</td>\n",
       "      <td>2</td>\n",
       "      <td>NaN</td>\n",
       "      <td>00:02:27</td>\n",
       "      <td>2.450000</td>\n",
       "    </tr>\n",
       "    <tr>\n",
       "      <th>439</th>\n",
       "      <td>55673870</td>\n",
       "      <td>1601</td>\n",
       "      <td>111</td>\n",
       "      <td>2013-01-01 06:20:49</td>\n",
       "      <td>2013-01-01 06:26:13</td>\n",
       "      <td>23.0</td>\n",
       "      <td>2013-01-01 10:32:28</td>\n",
       "      <td>2.0</td>\n",
       "      <td>15099.0</td>\n",
       "      <td>11</td>\n",
       "      <td>10030.0</td>\n",
       "      <td>1</td>\n",
       "      <td>NaN</td>\n",
       "      <td>00:05:24</td>\n",
       "      <td>5.400000</td>\n",
       "    </tr>\n",
       "    <tr>\n",
       "      <th>491</th>\n",
       "      <td>55674012</td>\n",
       "      <td>7973</td>\n",
       "      <td>111</td>\n",
       "      <td>2013-01-01 07:59:48</td>\n",
       "      <td>2013-01-01 08:03:33</td>\n",
       "      <td>6.0</td>\n",
       "      <td>2013-01-01 08:19:37</td>\n",
       "      <td>1.0</td>\n",
       "      <td>1189.0</td>\n",
       "      <td>11</td>\n",
       "      <td>11373.0</td>\n",
       "      <td>5</td>\n",
       "      <td>NaN</td>\n",
       "      <td>00:03:45</td>\n",
       "      <td>3.750000</td>\n",
       "    </tr>\n",
       "    <tr>\n",
       "      <th>568</th>\n",
       "      <td>55674170</td>\n",
       "      <td>1726</td>\n",
       "      <td>111</td>\n",
       "      <td>2013-01-01 09:47:27</td>\n",
       "      <td>2013-01-01 09:49:25</td>\n",
       "      <td>13.0</td>\n",
       "      <td>2013-01-01 11:11:42</td>\n",
       "      <td>7.0</td>\n",
       "      <td>5055.0</td>\n",
       "      <td>11</td>\n",
       "      <td>11207.0</td>\n",
       "      <td>4</td>\n",
       "      <td>NaN</td>\n",
       "      <td>00:01:58</td>\n",
       "      <td>1.966667</td>\n",
       "    </tr>\n",
       "  </tbody>\n",
       "</table>\n",
       "</div>"
      ],
      "text/plain": [
       "     IM_INCIDENT_KEY FIRE_BOX  INCIDENT_TYPE_DESC  INCIDENT_DATE_TIME  \\\n",
       "90          55672965     2595                 111 2013-01-01 00:58:10   \n",
       "198         55673299     2591                 111 2013-01-01 02:22:56   \n",
       "439         55673870     1601                 111 2013-01-01 06:20:49   \n",
       "491         55674012     7973                 111 2013-01-01 07:59:48   \n",
       "568         55674170     1726                 111 2013-01-01 09:47:27   \n",
       "\n",
       "      ARRIVAL_DATE_TIME  UNITS_ONSCENE LAST_UNIT_CLEARED_DATE_TIME  \\\n",
       "90  2013-01-01 01:00:50           15.0         2013-01-01 04:15:20   \n",
       "198 2013-01-01 02:25:23            9.0         2013-01-01 07:29:44   \n",
       "439 2013-01-01 06:26:13           23.0         2013-01-01 10:32:28   \n",
       "491 2013-01-01 08:03:33            6.0         2013-01-01 08:19:37   \n",
       "568 2013-01-01 09:49:25           13.0         2013-01-01 11:11:42   \n",
       "\n",
       "     HIGHEST_LEVEL_DESC  TOTAL_INCIDENT_DURATION  ACTION_TAKEN1_DESC  \\\n",
       "90                  7.0                  11830.0                  11   \n",
       "198                 7.0                  18408.0                  11   \n",
       "439                 2.0                  15099.0                  11   \n",
       "491                 1.0                   1189.0                  11   \n",
       "568                 7.0                   5055.0                  11   \n",
       "\n",
       "     ZIP_CODE  BOROUGH_DESC CO_DETECTOR_PRESENT_DESC ARRIVAL_TIME  \\\n",
       "90    11219.0             4                      NaN     00:02:40   \n",
       "198   10456.0             2                      NaN     00:02:27   \n",
       "439   10030.0             1                      NaN     00:05:24   \n",
       "491   11373.0             5                      NaN     00:03:45   \n",
       "568   11207.0             4                      NaN     00:01:58   \n",
       "\n",
       "     ARRIVAL_TIME_IN_MINS  \n",
       "90               2.666667  \n",
       "198              2.450000  \n",
       "439              5.400000  \n",
       "491              3.750000  \n",
       "568              1.966667  "
      ]
     },
     "execution_count": 33,
     "metadata": {},
     "output_type": "execute_result"
    }
   ],
   "source": [
    "sel1.head()"
   ]
  },
  {
   "cell_type": "code",
   "execution_count": 34,
   "metadata": {},
   "outputs": [
    {
     "data": {
      "text/plain": [
       "<matplotlib.axes._subplots.AxesSubplot at 0x1acd65860>"
      ]
     },
     "execution_count": 34,
     "metadata": {},
     "output_type": "execute_result"
    },
    {
     "data": {
      "image/png": "[encoded data removed]",
      "text/plain": [
       "<Figure size 432x288 with 1 Axes>"
      ]
     },
     "metadata": {
      "needs_background": "light"
     },
     "output_type": "display_data"
    }
   ],
   "source": [
    "#Plotting the distribution\n",
    "\n",
    "%matplotlib inline\n",
    "import matplotlib.pyplot as plt\n",
    "\n",
    "sel1['ARRIVAL_TIME_IN_MINS'].hist()"
   ]
  },
  {
   "cell_type": "code",
   "execution_count": 35,
   "metadata": {},
   "outputs": [
    {
     "data": {
      "text/plain": [
       "count    13069.000000\n",
       "mean         3.591804\n",
       "std          1.482594\n",
       "min         -5.083333\n",
       "25%          2.850000\n",
       "50%          3.450000\n",
       "75%          4.150000\n",
       "max         88.983333\n",
       "Name: ARRIVAL_TIME_IN_MINS, dtype: float64"
      ]
     },
     "execution_count": 35,
     "metadata": {},
     "output_type": "execute_result"
    }
   ],
   "source": [
    "# The third quartile can be found using the \"decribe\" function, \n",
    "\n",
    "sel1['ARRIVAL_TIME_IN_MINS'].describe()"
   ]
  },
  {
   "cell_type": "code",
   "execution_count": 36,
   "metadata": {},
   "outputs": [
    {
     "data": {
      "text/plain": [
       "4.15"
      ]
     },
     "execution_count": 36,
     "metadata": {},
     "output_type": "execute_result"
    }
   ],
   "source": [
    "#Or, using, \n",
    "\n",
    "prop_4 = sel1['ARRIVAL_TIME_IN_MINS'].quantile(0.75)\n",
    "prop_4"
   ]
  },
  {
   "cell_type": "markdown",
   "metadata": {},
   "source": [
    "Well, the answers match anyway. "
   ]
  },
  {
   "cell_type": "markdown",
   "metadata": {},
   "source": [
    "### 5. We can use the FDNY dataset to investigate at what time of the day people cook most. Compute what proportion of all incidents are cooking fires for every hour of the day by normalizing the number of cooking fires in a given hour by the total number of incidents that occured in that hour. Find the hour of the day that has the highest proportion of cooking fires and submit that proportion of cooking fires. A cooking fire is an incident for which 'INCIDENT_TYPE_DESC' is '113 - Cooking fire, confined to container'. Note: round incident times down. For example, if an incident occured at 22:55 it occured in hour 22."
   ]
  },
  {
   "cell_type": "code",
   "execution_count": 37,
   "metadata": {},
   "outputs": [
    {
     "data": {
      "text/plain": [
       "0   2013-01-01 00:00:20\n",
       "1   2013-01-01 00:00:37\n",
       "2   2013-01-01 00:01:17\n",
       "3   2013-01-01 00:02:32\n",
       "4   2013-01-01 00:01:49\n",
       "Name: INCIDENT_DATE_TIME, dtype: datetime64[ns]"
      ]
     },
     "execution_count": 37,
     "metadata": {},
     "output_type": "execute_result"
    }
   ],
   "source": [
    "data['INCIDENT_DATE_TIME'].head()"
   ]
  },
  {
   "cell_type": "code",
   "execution_count": 38,
   "metadata": {},
   "outputs": [],
   "source": [
    "# Selecting the rounded off hour\n",
    "\n",
    "data['INCIDENT_HOUR'] = data['INCIDENT_DATE_TIME'].dt.hour"
   ]
  },
  {
   "cell_type": "code",
   "execution_count": 39,
   "metadata": {},
   "outputs": [],
   "source": [
    "#Count incidents per hour\n",
    "\n",
    "incidents_per_hour = data['INCIDENT_HOUR'].value_counts()"
   ]
  },
  {
   "cell_type": "code",
   "execution_count": 40,
   "metadata": {},
   "outputs": [
    {
     "data": {
      "text/plain": [
       "0    71631\n",
       "1    57394\n",
       "2    47079\n",
       "3    41313\n",
       "4    39658\n",
       "Name: INCIDENT_HOUR, dtype: int64"
      ]
     },
     "execution_count": 40,
     "metadata": {},
     "output_type": "execute_result"
    }
   ],
   "source": [
    "incidents_per_hour_sorted = incidents_per_hour.sort_index()\n",
    "incidents_per_hour_sorted.head()"
   ]
  },
  {
   "cell_type": "markdown",
   "metadata": {},
   "source": [
    "`incidents_per_hour_sorted` gives the number of incidents every hour. Let's narrow down our data to Cooking incidents. "
   ]
  },
  {
   "cell_type": "code",
   "execution_count": 41,
   "metadata": {},
   "outputs": [
    {
     "data": {
      "text/html": [
       "<div>\n",
       "<style scoped>\n",
       "    .dataframe tbody tr th:only-of-type {\n",
       "        vertical-align: middle;\n",
       "    }\n",
       "\n",
       "    .dataframe tbody tr th {\n",
       "        vertical-align: top;\n",
       "    }\n",
       "\n",
       "    .dataframe thead th {\n",
       "        text-align: right;\n",
       "    }\n",
       "</style>\n",
       "<table border=\"1\" class=\"dataframe\">\n",
       "  <thead>\n",
       "    <tr style=\"text-align: right;\">\n",
       "      <th></th>\n",
       "      <th>IM_INCIDENT_KEY</th>\n",
       "      <th>FIRE_BOX</th>\n",
       "      <th>INCIDENT_TYPE_DESC</th>\n",
       "      <th>INCIDENT_DATE_TIME</th>\n",
       "      <th>ARRIVAL_DATE_TIME</th>\n",
       "      <th>UNITS_ONSCENE</th>\n",
       "      <th>LAST_UNIT_CLEARED_DATE_TIME</th>\n",
       "      <th>HIGHEST_LEVEL_DESC</th>\n",
       "      <th>TOTAL_INCIDENT_DURATION</th>\n",
       "      <th>ACTION_TAKEN1_DESC</th>\n",
       "      <th>ZIP_CODE</th>\n",
       "      <th>BOROUGH_DESC</th>\n",
       "      <th>CO_DETECTOR_PRESENT_DESC</th>\n",
       "      <th>INCIDENT_HOUR</th>\n",
       "    </tr>\n",
       "  </thead>\n",
       "  <tbody>\n",
       "    <tr>\n",
       "      <th>53</th>\n",
       "      <td>55672876</td>\n",
       "      <td>1380</td>\n",
       "      <td>113</td>\n",
       "      <td>2013-01-01 00:34:10</td>\n",
       "      <td>2013-01-01 00:37:52</td>\n",
       "      <td>3.0</td>\n",
       "      <td>2013-01-01 00:49:43</td>\n",
       "      <td>1.0</td>\n",
       "      <td>933.0</td>\n",
       "      <td>11</td>\n",
       "      <td>11694.0</td>\n",
       "      <td>5</td>\n",
       "      <td>NaN</td>\n",
       "      <td>0</td>\n",
       "    </tr>\n",
       "    <tr>\n",
       "      <th>58</th>\n",
       "      <td>55672892</td>\n",
       "      <td>1201</td>\n",
       "      <td>113</td>\n",
       "      <td>2013-01-01 00:38:51</td>\n",
       "      <td>2013-01-01 00:42:40</td>\n",
       "      <td>6.0</td>\n",
       "      <td>2013-01-01 00:57:58</td>\n",
       "      <td>1.0</td>\n",
       "      <td>1147.0</td>\n",
       "      <td>11</td>\n",
       "      <td>11691.0</td>\n",
       "      <td>5</td>\n",
       "      <td>NaN</td>\n",
       "      <td>0</td>\n",
       "    </tr>\n",
       "    <tr>\n",
       "      <th>120</th>\n",
       "      <td>55673073</td>\n",
       "      <td>2538</td>\n",
       "      <td>113</td>\n",
       "      <td>2013-01-01 01:23:26</td>\n",
       "      <td>2013-01-01 01:27:05</td>\n",
       "      <td>5.0</td>\n",
       "      <td>2013-01-01 01:37:33</td>\n",
       "      <td>1.0</td>\n",
       "      <td>847.0</td>\n",
       "      <td>11</td>\n",
       "      <td>10456.0</td>\n",
       "      <td>2</td>\n",
       "      <td>NaN</td>\n",
       "      <td>1</td>\n",
       "    </tr>\n",
       "    <tr>\n",
       "      <th>248</th>\n",
       "      <td>55673417</td>\n",
       "      <td>0688</td>\n",
       "      <td>113</td>\n",
       "      <td>2013-01-01 03:00:44</td>\n",
       "      <td>2013-01-01 03:06:52</td>\n",
       "      <td>5.0</td>\n",
       "      <td>2013-01-01 03:13:50</td>\n",
       "      <td>1.0</td>\n",
       "      <td>786.0</td>\n",
       "      <td>11</td>\n",
       "      <td>11221.0</td>\n",
       "      <td>4</td>\n",
       "      <td>NaN</td>\n",
       "      <td>3</td>\n",
       "    </tr>\n",
       "    <tr>\n",
       "      <th>329</th>\n",
       "      <td>55673603</td>\n",
       "      <td>0574</td>\n",
       "      <td>113</td>\n",
       "      <td>2013-01-01 04:16:58</td>\n",
       "      <td>2013-01-01 04:20:21</td>\n",
       "      <td>5.0</td>\n",
       "      <td>2013-01-01 04:34:42</td>\n",
       "      <td>1.0</td>\n",
       "      <td>1064.0</td>\n",
       "      <td>11</td>\n",
       "      <td>10011.0</td>\n",
       "      <td>1</td>\n",
       "      <td>NaN</td>\n",
       "      <td>4</td>\n",
       "    </tr>\n",
       "  </tbody>\n",
       "</table>\n",
       "</div>"
      ],
      "text/plain": [
       "     IM_INCIDENT_KEY FIRE_BOX  INCIDENT_TYPE_DESC  INCIDENT_DATE_TIME  \\\n",
       "53          55672876     1380                 113 2013-01-01 00:34:10   \n",
       "58          55672892     1201                 113 2013-01-01 00:38:51   \n",
       "120         55673073     2538                 113 2013-01-01 01:23:26   \n",
       "248         55673417     0688                 113 2013-01-01 03:00:44   \n",
       "329         55673603     0574                 113 2013-01-01 04:16:58   \n",
       "\n",
       "      ARRIVAL_DATE_TIME  UNITS_ONSCENE LAST_UNIT_CLEARED_DATE_TIME  \\\n",
       "53  2013-01-01 00:37:52            3.0         2013-01-01 00:49:43   \n",
       "58  2013-01-01 00:42:40            6.0         2013-01-01 00:57:58   \n",
       "120 2013-01-01 01:27:05            5.0         2013-01-01 01:37:33   \n",
       "248 2013-01-01 03:06:52            5.0         2013-01-01 03:13:50   \n",
       "329 2013-01-01 04:20:21            5.0         2013-01-01 04:34:42   \n",
       "\n",
       "     HIGHEST_LEVEL_DESC  TOTAL_INCIDENT_DURATION  ACTION_TAKEN1_DESC  \\\n",
       "53                  1.0                    933.0                  11   \n",
       "58                  1.0                   1147.0                  11   \n",
       "120                 1.0                    847.0                  11   \n",
       "248                 1.0                    786.0                  11   \n",
       "329                 1.0                   1064.0                  11   \n",
       "\n",
       "     ZIP_CODE  BOROUGH_DESC CO_DETECTOR_PRESENT_DESC  INCIDENT_HOUR  \n",
       "53    11694.0             5                      NaN              0  \n",
       "58    11691.0             5                      NaN              0  \n",
       "120   10456.0             2                      NaN              1  \n",
       "248   11221.0             4                      NaN              3  \n",
       "329   10011.0             1                      NaN              4  "
      ]
     },
     "execution_count": 41,
     "metadata": {},
     "output_type": "execute_result"
    }
   ],
   "source": [
    "sel4 = data.loc[(data['INCIDENT_TYPE_DESC'] == 113)]\n",
    "sel4.head()"
   ]
  },
  {
   "cell_type": "code",
   "execution_count": 42,
   "metadata": {},
   "outputs": [],
   "source": [
    "#Doing the same analysis as above for cooking incidents, \n",
    "\n",
    "cooking_incidents_per_hour = sel4['INCIDENT_HOUR'].value_counts()"
   ]
  },
  {
   "cell_type": "code",
   "execution_count": 43,
   "metadata": {},
   "outputs": [
    {
     "data": {
      "text/plain": [
       "0    2047\n",
       "1    1571\n",
       "2    1203\n",
       "3    1059\n",
       "4     951\n",
       "Name: INCIDENT_HOUR, dtype: int64"
      ]
     },
     "execution_count": 43,
     "metadata": {},
     "output_type": "execute_result"
    }
   ],
   "source": [
    "cooking_incidents_per_hour_sorted = cooking_incidents_per_hour.sort_index()\n",
    "cooking_incidents_per_hour_sorted.head()"
   ]
  },
  {
   "cell_type": "code",
   "execution_count": 44,
   "metadata": {},
   "outputs": [
    {
     "name": "stdout",
     "output_type": "stream",
     "text": [
      "0.050846824501505385 18\n"
     ]
    }
   ],
   "source": [
    "ratio_of_cooking_incidents = cooking_incidents_per_hour_sorted/incidents_per_hour_sorted\n",
    "prop_5 = max(ratio_of_cooking_incidents)\n",
    "prop_idx = ratio_of_cooking_incidents.idxmax()\n",
    "print(prop_5,prop_idx)"
   ]
  },
  {
   "cell_type": "markdown",
   "metadata": {},
   "source": [
    "### 6. What is the coefficient of determination (R squared) between the number of residents at each zip code and the number of inicidents whose type is classified as '111 - Building fire' at each of those zip codes. Note: The 2010 US Census population by zip code dataset should be downloaded from [here](https://s3.amazonaws.com/SplitwiseBlogJB/2010+Census+Population+By+Zipcode+(ZCTA).csv). You will need to use both the FDNY responses and the US Census dataset. Ignore zip codes that do not appear in the census table."
   ]
  },
  {
   "cell_type": "code",
   "execution_count": 45,
   "metadata": {},
   "outputs": [],
   "source": [
    "census_data = pd.read_csv(\"2010+Census+Population+By+Zipcode+(ZCTA).csv\")"
   ]
  },
  {
   "cell_type": "code",
   "execution_count": 46,
   "metadata": {},
   "outputs": [],
   "source": [
    "census_data = census_data.rename(index=str, columns={\"Zip Code ZCTA\": \"ZIP_CODE\", \"2010 Census Population\": \"POPULATION\"})"
   ]
  },
  {
   "cell_type": "code",
   "execution_count": 47,
   "metadata": {},
   "outputs": [
    {
     "data": {
      "text/html": [
       "<div>\n",
       "<style scoped>\n",
       "    .dataframe tbody tr th:only-of-type {\n",
       "        vertical-align: middle;\n",
       "    }\n",
       "\n",
       "    .dataframe tbody tr th {\n",
       "        vertical-align: top;\n",
       "    }\n",
       "\n",
       "    .dataframe thead th {\n",
       "        text-align: right;\n",
       "    }\n",
       "</style>\n",
       "<table border=\"1\" class=\"dataframe\">\n",
       "  <thead>\n",
       "    <tr style=\"text-align: right;\">\n",
       "      <th></th>\n",
       "      <th>ZIP_CODE</th>\n",
       "      <th>POPULATION</th>\n",
       "    </tr>\n",
       "  </thead>\n",
       "  <tbody>\n",
       "    <tr>\n",
       "      <th>0</th>\n",
       "      <td>1001</td>\n",
       "      <td>16769</td>\n",
       "    </tr>\n",
       "    <tr>\n",
       "      <th>1</th>\n",
       "      <td>1002</td>\n",
       "      <td>29049</td>\n",
       "    </tr>\n",
       "    <tr>\n",
       "      <th>2</th>\n",
       "      <td>1003</td>\n",
       "      <td>10372</td>\n",
       "    </tr>\n",
       "    <tr>\n",
       "      <th>3</th>\n",
       "      <td>1005</td>\n",
       "      <td>5079</td>\n",
       "    </tr>\n",
       "    <tr>\n",
       "      <th>4</th>\n",
       "      <td>1007</td>\n",
       "      <td>14649</td>\n",
       "    </tr>\n",
       "  </tbody>\n",
       "</table>\n",
       "</div>"
      ],
      "text/plain": [
       "   ZIP_CODE  POPULATION\n",
       "0      1001       16769\n",
       "1      1002       29049\n",
       "2      1003       10372\n",
       "3      1005        5079\n",
       "4      1007       14649"
      ]
     },
     "execution_count": 47,
     "metadata": {},
     "output_type": "execute_result"
    }
   ],
   "source": [
    "census_data.head()"
   ]
  },
  {
   "cell_type": "code",
   "execution_count": 48,
   "metadata": {},
   "outputs": [
    {
     "data": {
      "text/html": [
       "<div>\n",
       "<style scoped>\n",
       "    .dataframe tbody tr th:only-of-type {\n",
       "        vertical-align: middle;\n",
       "    }\n",
       "\n",
       "    .dataframe tbody tr th {\n",
       "        vertical-align: top;\n",
       "    }\n",
       "\n",
       "    .dataframe thead th {\n",
       "        text-align: right;\n",
       "    }\n",
       "</style>\n",
       "<table border=\"1\" class=\"dataframe\">\n",
       "  <thead>\n",
       "    <tr style=\"text-align: right;\">\n",
       "      <th></th>\n",
       "      <th>IM_INCIDENT_KEY</th>\n",
       "      <th>FIRE_BOX</th>\n",
       "      <th>INCIDENT_TYPE_DESC</th>\n",
       "      <th>INCIDENT_DATE_TIME</th>\n",
       "      <th>ARRIVAL_DATE_TIME</th>\n",
       "      <th>UNITS_ONSCENE</th>\n",
       "      <th>LAST_UNIT_CLEARED_DATE_TIME</th>\n",
       "      <th>HIGHEST_LEVEL_DESC</th>\n",
       "      <th>TOTAL_INCIDENT_DURATION</th>\n",
       "      <th>ACTION_TAKEN1_DESC</th>\n",
       "      <th>ZIP_CODE</th>\n",
       "      <th>BOROUGH_DESC</th>\n",
       "      <th>CO_DETECTOR_PRESENT_DESC</th>\n",
       "      <th>INCIDENT_HOUR</th>\n",
       "    </tr>\n",
       "  </thead>\n",
       "  <tbody>\n",
       "    <tr>\n",
       "      <th>90</th>\n",
       "      <td>55672965</td>\n",
       "      <td>2595</td>\n",
       "      <td>111</td>\n",
       "      <td>2013-01-01 00:58:10</td>\n",
       "      <td>2013-01-01 01:00:50</td>\n",
       "      <td>15.0</td>\n",
       "      <td>2013-01-01 04:15:20</td>\n",
       "      <td>7.0</td>\n",
       "      <td>11830.0</td>\n",
       "      <td>11</td>\n",
       "      <td>11219.0</td>\n",
       "      <td>4</td>\n",
       "      <td>NaN</td>\n",
       "      <td>0</td>\n",
       "    </tr>\n",
       "    <tr>\n",
       "      <th>198</th>\n",
       "      <td>55673299</td>\n",
       "      <td>2591</td>\n",
       "      <td>111</td>\n",
       "      <td>2013-01-01 02:22:56</td>\n",
       "      <td>2013-01-01 02:25:23</td>\n",
       "      <td>9.0</td>\n",
       "      <td>2013-01-01 07:29:44</td>\n",
       "      <td>7.0</td>\n",
       "      <td>18408.0</td>\n",
       "      <td>11</td>\n",
       "      <td>10456.0</td>\n",
       "      <td>2</td>\n",
       "      <td>NaN</td>\n",
       "      <td>2</td>\n",
       "    </tr>\n",
       "    <tr>\n",
       "      <th>439</th>\n",
       "      <td>55673870</td>\n",
       "      <td>1601</td>\n",
       "      <td>111</td>\n",
       "      <td>2013-01-01 06:20:49</td>\n",
       "      <td>2013-01-01 06:26:13</td>\n",
       "      <td>23.0</td>\n",
       "      <td>2013-01-01 10:32:28</td>\n",
       "      <td>2.0</td>\n",
       "      <td>15099.0</td>\n",
       "      <td>11</td>\n",
       "      <td>10030.0</td>\n",
       "      <td>1</td>\n",
       "      <td>NaN</td>\n",
       "      <td>6</td>\n",
       "    </tr>\n",
       "    <tr>\n",
       "      <th>491</th>\n",
       "      <td>55674012</td>\n",
       "      <td>7973</td>\n",
       "      <td>111</td>\n",
       "      <td>2013-01-01 07:59:48</td>\n",
       "      <td>2013-01-01 08:03:33</td>\n",
       "      <td>6.0</td>\n",
       "      <td>2013-01-01 08:19:37</td>\n",
       "      <td>1.0</td>\n",
       "      <td>1189.0</td>\n",
       "      <td>11</td>\n",
       "      <td>11373.0</td>\n",
       "      <td>5</td>\n",
       "      <td>NaN</td>\n",
       "      <td>7</td>\n",
       "    </tr>\n",
       "    <tr>\n",
       "      <th>568</th>\n",
       "      <td>55674170</td>\n",
       "      <td>1726</td>\n",
       "      <td>111</td>\n",
       "      <td>2013-01-01 09:47:27</td>\n",
       "      <td>2013-01-01 09:49:25</td>\n",
       "      <td>13.0</td>\n",
       "      <td>2013-01-01 11:11:42</td>\n",
       "      <td>7.0</td>\n",
       "      <td>5055.0</td>\n",
       "      <td>11</td>\n",
       "      <td>11207.0</td>\n",
       "      <td>4</td>\n",
       "      <td>NaN</td>\n",
       "      <td>9</td>\n",
       "    </tr>\n",
       "  </tbody>\n",
       "</table>\n",
       "</div>"
      ],
      "text/plain": [
       "     IM_INCIDENT_KEY FIRE_BOX  INCIDENT_TYPE_DESC  INCIDENT_DATE_TIME  \\\n",
       "90          55672965     2595                 111 2013-01-01 00:58:10   \n",
       "198         55673299     2591                 111 2013-01-01 02:22:56   \n",
       "439         55673870     1601                 111 2013-01-01 06:20:49   \n",
       "491         55674012     7973                 111 2013-01-01 07:59:48   \n",
       "568         55674170     1726                 111 2013-01-01 09:47:27   \n",
       "\n",
       "      ARRIVAL_DATE_TIME  UNITS_ONSCENE LAST_UNIT_CLEARED_DATE_TIME  \\\n",
       "90  2013-01-01 01:00:50           15.0         2013-01-01 04:15:20   \n",
       "198 2013-01-01 02:25:23            9.0         2013-01-01 07:29:44   \n",
       "439 2013-01-01 06:26:13           23.0         2013-01-01 10:32:28   \n",
       "491 2013-01-01 08:03:33            6.0         2013-01-01 08:19:37   \n",
       "568 2013-01-01 09:49:25           13.0         2013-01-01 11:11:42   \n",
       "\n",
       "     HIGHEST_LEVEL_DESC  TOTAL_INCIDENT_DURATION  ACTION_TAKEN1_DESC  \\\n",
       "90                  7.0                  11830.0                  11   \n",
       "198                 7.0                  18408.0                  11   \n",
       "439                 2.0                  15099.0                  11   \n",
       "491                 1.0                   1189.0                  11   \n",
       "568                 7.0                   5055.0                  11   \n",
       "\n",
       "     ZIP_CODE  BOROUGH_DESC CO_DETECTOR_PRESENT_DESC  INCIDENT_HOUR  \n",
       "90    11219.0             4                      NaN              0  \n",
       "198   10456.0             2                      NaN              2  \n",
       "439   10030.0             1                      NaN              6  \n",
       "491   11373.0             5                      NaN              7  \n",
       "568   11207.0             4                      NaN              9  "
      ]
     },
     "execution_count": 48,
     "metadata": {},
     "output_type": "execute_result"
    }
   ],
   "source": [
    "#Reload fire incidents\n",
    "\n",
    "sel1 = data.loc[(data['INCIDENT_TYPE_DESC'] == 111)]\n",
    "sel1.head()"
   ]
  },
  {
   "cell_type": "code",
   "execution_count": 49,
   "metadata": {},
   "outputs": [],
   "source": [
    "#Grouping data by zip code\n",
    "\n",
    "zip_codes = sel1['ZIP_CODE'].value_counts()"
   ]
  },
  {
   "cell_type": "code",
   "execution_count": 50,
   "metadata": {},
   "outputs": [
    {
     "data": {
      "text/plain": [
       "11207.0    218\n",
       "10456.0    204\n",
       "11208.0    203\n",
       "11221.0    199\n",
       "11212.0    186\n",
       "Name: ZIP_CODE, dtype: int64"
      ]
     },
     "execution_count": 50,
     "metadata": {},
     "output_type": "execute_result"
    }
   ],
   "source": [
    "zip_codes.head()"
   ]
  },
  {
   "cell_type": "code",
   "execution_count": 51,
   "metadata": {},
   "outputs": [],
   "source": [
    "zip_codes = zip_codes.rename_axis('ZIP_CODE').reset_index(name='NUMBER_OF_FIRE_INCIDENTS')"
   ]
  },
  {
   "cell_type": "markdown",
   "metadata": {},
   "source": [
    "Dropping indices where Zip Code is 9999: "
   ]
  },
  {
   "cell_type": "code",
   "execution_count": 52,
   "metadata": {},
   "outputs": [],
   "source": [
    "index_zip_99999 = zip_codes[zip_codes.ZIP_CODE == 99999].index\n",
    "zip_codes = zip_codes.drop(index_zip_99999)"
   ]
  },
  {
   "cell_type": "code",
   "execution_count": 53,
   "metadata": {},
   "outputs": [
    {
     "data": {
      "text/html": [
       "<div>\n",
       "<style scoped>\n",
       "    .dataframe tbody tr th:only-of-type {\n",
       "        vertical-align: middle;\n",
       "    }\n",
       "\n",
       "    .dataframe tbody tr th {\n",
       "        vertical-align: top;\n",
       "    }\n",
       "\n",
       "    .dataframe thead th {\n",
       "        text-align: right;\n",
       "    }\n",
       "</style>\n",
       "<table border=\"1\" class=\"dataframe\">\n",
       "  <thead>\n",
       "    <tr style=\"text-align: right;\">\n",
       "      <th></th>\n",
       "      <th>ZIP_CODE</th>\n",
       "      <th>NUMBER_OF_FIRE_INCIDENTS</th>\n",
       "    </tr>\n",
       "  </thead>\n",
       "  <tbody>\n",
       "    <tr>\n",
       "      <th>0</th>\n",
       "      <td>11207.0</td>\n",
       "      <td>218</td>\n",
       "    </tr>\n",
       "    <tr>\n",
       "      <th>1</th>\n",
       "      <td>10456.0</td>\n",
       "      <td>204</td>\n",
       "    </tr>\n",
       "    <tr>\n",
       "      <th>2</th>\n",
       "      <td>11208.0</td>\n",
       "      <td>203</td>\n",
       "    </tr>\n",
       "    <tr>\n",
       "      <th>3</th>\n",
       "      <td>11221.0</td>\n",
       "      <td>199</td>\n",
       "    </tr>\n",
       "    <tr>\n",
       "      <th>4</th>\n",
       "      <td>11212.0</td>\n",
       "      <td>186</td>\n",
       "    </tr>\n",
       "  </tbody>\n",
       "</table>\n",
       "</div>"
      ],
      "text/plain": [
       "   ZIP_CODE  NUMBER_OF_FIRE_INCIDENTS\n",
       "0   11207.0                       218\n",
       "1   10456.0                       204\n",
       "2   11208.0                       203\n",
       "3   11221.0                       199\n",
       "4   11212.0                       186"
      ]
     },
     "execution_count": 53,
     "metadata": {},
     "output_type": "execute_result"
    }
   ],
   "source": [
    "zip_codes.head()"
   ]
  },
  {
   "cell_type": "code",
   "execution_count": 54,
   "metadata": {},
   "outputs": [],
   "source": [
    "joined_df = zip_codes.merge(census_data)"
   ]
  },
  {
   "cell_type": "code",
   "execution_count": 55,
   "metadata": {},
   "outputs": [
    {
     "data": {
      "text/html": [
       "<div>\n",
       "<style scoped>\n",
       "    .dataframe tbody tr th:only-of-type {\n",
       "        vertical-align: middle;\n",
       "    }\n",
       "\n",
       "    .dataframe tbody tr th {\n",
       "        vertical-align: top;\n",
       "    }\n",
       "\n",
       "    .dataframe thead th {\n",
       "        text-align: right;\n",
       "    }\n",
       "</style>\n",
       "<table border=\"1\" class=\"dataframe\">\n",
       "  <thead>\n",
       "    <tr style=\"text-align: right;\">\n",
       "      <th></th>\n",
       "      <th>ZIP_CODE</th>\n",
       "      <th>NUMBER_OF_FIRE_INCIDENTS</th>\n",
       "      <th>POPULATION</th>\n",
       "    </tr>\n",
       "  </thead>\n",
       "  <tbody>\n",
       "    <tr>\n",
       "      <th>0</th>\n",
       "      <td>11207.0</td>\n",
       "      <td>218</td>\n",
       "      <td>93386</td>\n",
       "    </tr>\n",
       "    <tr>\n",
       "      <th>1</th>\n",
       "      <td>10456.0</td>\n",
       "      <td>204</td>\n",
       "      <td>86547</td>\n",
       "    </tr>\n",
       "    <tr>\n",
       "      <th>2</th>\n",
       "      <td>11208.0</td>\n",
       "      <td>203</td>\n",
       "      <td>94469</td>\n",
       "    </tr>\n",
       "    <tr>\n",
       "      <th>3</th>\n",
       "      <td>11221.0</td>\n",
       "      <td>199</td>\n",
       "      <td>78895</td>\n",
       "    </tr>\n",
       "    <tr>\n",
       "      <th>4</th>\n",
       "      <td>11212.0</td>\n",
       "      <td>186</td>\n",
       "      <td>84500</td>\n",
       "    </tr>\n",
       "  </tbody>\n",
       "</table>\n",
       "</div>"
      ],
      "text/plain": [
       "   ZIP_CODE  NUMBER_OF_FIRE_INCIDENTS  POPULATION\n",
       "0   11207.0                       218       93386\n",
       "1   10456.0                       204       86547\n",
       "2   11208.0                       203       94469\n",
       "3   11221.0                       199       78895\n",
       "4   11212.0                       186       84500"
      ]
     },
     "execution_count": 55,
     "metadata": {},
     "output_type": "execute_result"
    }
   ],
   "source": [
    "joined_df.head()"
   ]
  },
  {
   "cell_type": "code",
   "execution_count": 56,
   "metadata": {},
   "outputs": [],
   "source": [
    "#Phew, now let's find out the Co-efficient of Determination (R^2)\n",
    "\n",
    "from sklearn.metrics import r2_score\n",
    "\n",
    "prop_6 = r2_score(joined_df['POPULATION'], joined_df['NUMBER_OF_FIRE_INCIDENTS'])"
   ]
  },
  {
   "cell_type": "code",
   "execution_count": 57,
   "metadata": {},
   "outputs": [
    {
     "data": {
      "text/plain": [
       "-3.215088897304587"
      ]
     },
     "execution_count": 57,
     "metadata": {},
     "output_type": "execute_result"
    }
   ],
   "source": [
    "prop_6"
   ]
  },
  {
   "cell_type": "markdown",
   "metadata": {},
   "source": [
    "### 7. For this question, only consider incidents that have information about whether a CO detector was present or not. We are interested in how many times more likely it is that an incident is long when no CO detector is present compared to when a CO detector is present. For events with CO detector and for those without one, compute the proportion of incidents that lasted 20-30, 30-40, 40-50, 50-60, and 60-70 minutes (both interval boundary values included) by dividing the number of incidents in each time interval with the total number of incidents. For each bin, compute the ratio of the 'CO detector absent' frequency to the 'CO detector present' frequency. Perform a linear regression of this ratio to the mid-point of the bins. From this, what is the predicted ratio for events lasting 39 minutes?"
   ]
  },
  {
   "cell_type": "code",
   "execution_count": 58,
   "metadata": {},
   "outputs": [],
   "source": [
    "sel5 = data.copy()"
   ]
  },
  {
   "cell_type": "code",
   "execution_count": 59,
   "metadata": {},
   "outputs": [],
   "source": [
    "# Remove all rows where we don't have information whether a CO detector was present or not. \n",
    "\n",
    "sel5 = sel5.dropna()"
   ]
  },
  {
   "cell_type": "markdown",
   "metadata": {},
   "source": [
    "`TOTAL_INCIDENT_DURATION` is in seconds. Converting to minutes first. "
   ]
  },
  {
   "cell_type": "code",
   "execution_count": 60,
   "metadata": {},
   "outputs": [],
   "source": [
    "sel5['TOTAL_INCIDENT_DURATION'] = sel5['TOTAL_INCIDENT_DURATION']/60.0"
   ]
  },
  {
   "cell_type": "code",
   "execution_count": 61,
   "metadata": {},
   "outputs": [
    {
     "data": {
      "text/html": [
       "<div>\n",
       "<style scoped>\n",
       "    .dataframe tbody tr th:only-of-type {\n",
       "        vertical-align: middle;\n",
       "    }\n",
       "\n",
       "    .dataframe tbody tr th {\n",
       "        vertical-align: top;\n",
       "    }\n",
       "\n",
       "    .dataframe thead th {\n",
       "        text-align: right;\n",
       "    }\n",
       "</style>\n",
       "<table border=\"1\" class=\"dataframe\">\n",
       "  <thead>\n",
       "    <tr style=\"text-align: right;\">\n",
       "      <th></th>\n",
       "      <th>IM_INCIDENT_KEY</th>\n",
       "      <th>FIRE_BOX</th>\n",
       "      <th>INCIDENT_TYPE_DESC</th>\n",
       "      <th>INCIDENT_DATE_TIME</th>\n",
       "      <th>ARRIVAL_DATE_TIME</th>\n",
       "      <th>UNITS_ONSCENE</th>\n",
       "      <th>LAST_UNIT_CLEARED_DATE_TIME</th>\n",
       "      <th>HIGHEST_LEVEL_DESC</th>\n",
       "      <th>TOTAL_INCIDENT_DURATION</th>\n",
       "      <th>ACTION_TAKEN1_DESC</th>\n",
       "      <th>ZIP_CODE</th>\n",
       "      <th>BOROUGH_DESC</th>\n",
       "      <th>CO_DETECTOR_PRESENT_DESC</th>\n",
       "      <th>INCIDENT_HOUR</th>\n",
       "    </tr>\n",
       "  </thead>\n",
       "  <tbody>\n",
       "    <tr>\n",
       "      <th>28</th>\n",
       "      <td>55672777</td>\n",
       "      <td>2332</td>\n",
       "      <td>746</td>\n",
       "      <td>2013-01-01 00:20:13</td>\n",
       "      <td>2013-01-01 00:25:39</td>\n",
       "      <td>2.0</td>\n",
       "      <td>2013-01-01 00:41:53</td>\n",
       "      <td>1.0</td>\n",
       "      <td>21.666667</td>\n",
       "      <td>42</td>\n",
       "      <td>10459.0</td>\n",
       "      <td>2</td>\n",
       "      <td>Yes</td>\n",
       "      <td>0</td>\n",
       "    </tr>\n",
       "    <tr>\n",
       "      <th>153</th>\n",
       "      <td>55673169</td>\n",
       "      <td>0097</td>\n",
       "      <td>736</td>\n",
       "      <td>2013-01-01 01:47:48</td>\n",
       "      <td>2013-01-01 01:52:39</td>\n",
       "      <td>2.0</td>\n",
       "      <td>2013-01-01 01:54:26</td>\n",
       "      <td>1.0</td>\n",
       "      <td>6.633333</td>\n",
       "      <td>86</td>\n",
       "      <td>11211.0</td>\n",
       "      <td>4</td>\n",
       "      <td>Yes</td>\n",
       "      <td>1</td>\n",
       "    </tr>\n",
       "    <tr>\n",
       "      <th>194</th>\n",
       "      <td>55673290</td>\n",
       "      <td>0105</td>\n",
       "      <td>400</td>\n",
       "      <td>2013-01-01 02:21:49</td>\n",
       "      <td>2013-01-01 02:30:05</td>\n",
       "      <td>2.0</td>\n",
       "      <td>2013-01-01 02:47:36</td>\n",
       "      <td>1.0</td>\n",
       "      <td>25.783333</td>\n",
       "      <td>45</td>\n",
       "      <td>10007.0</td>\n",
       "      <td>1</td>\n",
       "      <td>No</td>\n",
       "      <td>2</td>\n",
       "    </tr>\n",
       "    <tr>\n",
       "      <th>249</th>\n",
       "      <td>55673419</td>\n",
       "      <td>3184</td>\n",
       "      <td>424</td>\n",
       "      <td>2013-01-01 03:03:40</td>\n",
       "      <td>2013-01-01 03:08:28</td>\n",
       "      <td>2.0</td>\n",
       "      <td>2013-01-01 03:18:44</td>\n",
       "      <td>1.0</td>\n",
       "      <td>15.066667</td>\n",
       "      <td>42</td>\n",
       "      <td>11234.0</td>\n",
       "      <td>4</td>\n",
       "      <td>Yes</td>\n",
       "      <td>3</td>\n",
       "    </tr>\n",
       "    <tr>\n",
       "      <th>449</th>\n",
       "      <td>55673903</td>\n",
       "      <td>3318</td>\n",
       "      <td>424</td>\n",
       "      <td>2013-01-01 06:38:05</td>\n",
       "      <td>2013-01-01 06:43:07</td>\n",
       "      <td>2.0</td>\n",
       "      <td>2013-01-01 07:09:16</td>\n",
       "      <td>1.0</td>\n",
       "      <td>31.183333</td>\n",
       "      <td>42</td>\n",
       "      <td>10468.0</td>\n",
       "      <td>2</td>\n",
       "      <td>Yes</td>\n",
       "      <td>6</td>\n",
       "    </tr>\n",
       "  </tbody>\n",
       "</table>\n",
       "</div>"
      ],
      "text/plain": [
       "     IM_INCIDENT_KEY FIRE_BOX  INCIDENT_TYPE_DESC  INCIDENT_DATE_TIME  \\\n",
       "28          55672777     2332                 746 2013-01-01 00:20:13   \n",
       "153         55673169     0097                 736 2013-01-01 01:47:48   \n",
       "194         55673290     0105                 400 2013-01-01 02:21:49   \n",
       "249         55673419     3184                 424 2013-01-01 03:03:40   \n",
       "449         55673903     3318                 424 2013-01-01 06:38:05   \n",
       "\n",
       "      ARRIVAL_DATE_TIME  UNITS_ONSCENE LAST_UNIT_CLEARED_DATE_TIME  \\\n",
       "28  2013-01-01 00:25:39            2.0         2013-01-01 00:41:53   \n",
       "153 2013-01-01 01:52:39            2.0         2013-01-01 01:54:26   \n",
       "194 2013-01-01 02:30:05            2.0         2013-01-01 02:47:36   \n",
       "249 2013-01-01 03:08:28            2.0         2013-01-01 03:18:44   \n",
       "449 2013-01-01 06:43:07            2.0         2013-01-01 07:09:16   \n",
       "\n",
       "     HIGHEST_LEVEL_DESC  TOTAL_INCIDENT_DURATION  ACTION_TAKEN1_DESC  \\\n",
       "28                  1.0                21.666667                  42   \n",
       "153                 1.0                 6.633333                  86   \n",
       "194                 1.0                25.783333                  45   \n",
       "249                 1.0                15.066667                  42   \n",
       "449                 1.0                31.183333                  42   \n",
       "\n",
       "     ZIP_CODE  BOROUGH_DESC CO_DETECTOR_PRESENT_DESC  INCIDENT_HOUR  \n",
       "28    10459.0             2                      Yes              0  \n",
       "153   11211.0             4                      Yes              1  \n",
       "194   10007.0             1                       No              2  \n",
       "249   11234.0             4                      Yes              3  \n",
       "449   10468.0             2                      Yes              6  "
      ]
     },
     "execution_count": 61,
     "metadata": {},
     "output_type": "execute_result"
    }
   ],
   "source": [
    "sel5.head()"
   ]
  },
  {
   "cell_type": "code",
   "execution_count": 62,
   "metadata": {},
   "outputs": [
    {
     "data": {
      "text/plain": [
       "(20.0, 30.0]    7631\n",
       "(30.0, 40.0]    2709\n",
       "(40.0, 50.0]    1261\n",
       "(50.0, 60.0]     718\n",
       "(60.0, 70.0]     385\n",
       "Name: TOTAL_INCIDENT_DURATION, dtype: int64"
      ]
     },
     "execution_count": 62,
     "metadata": {},
     "output_type": "execute_result"
    }
   ],
   "source": [
    "bin_total_incidents = pd.cut(sel5['TOTAL_INCIDENT_DURATION'], [20.0, 30.0, 40.0, 50.0, 60.0, 70.0])\n",
    "total_incidents = bin_total_incidents.value_counts()\n",
    "total_incidents"
   ]
  },
  {
   "cell_type": "code",
   "execution_count": 63,
   "metadata": {},
   "outputs": [
    {
     "data": {
      "text/html": [
       "<div>\n",
       "<style scoped>\n",
       "    .dataframe tbody tr th:only-of-type {\n",
       "        vertical-align: middle;\n",
       "    }\n",
       "\n",
       "    .dataframe tbody tr th {\n",
       "        vertical-align: top;\n",
       "    }\n",
       "\n",
       "    .dataframe thead th {\n",
       "        text-align: right;\n",
       "    }\n",
       "</style>\n",
       "<table border=\"1\" class=\"dataframe\">\n",
       "  <thead>\n",
       "    <tr style=\"text-align: right;\">\n",
       "      <th></th>\n",
       "      <th>IM_INCIDENT_KEY</th>\n",
       "      <th>FIRE_BOX</th>\n",
       "      <th>INCIDENT_TYPE_DESC</th>\n",
       "      <th>INCIDENT_DATE_TIME</th>\n",
       "      <th>ARRIVAL_DATE_TIME</th>\n",
       "      <th>UNITS_ONSCENE</th>\n",
       "      <th>LAST_UNIT_CLEARED_DATE_TIME</th>\n",
       "      <th>HIGHEST_LEVEL_DESC</th>\n",
       "      <th>TOTAL_INCIDENT_DURATION</th>\n",
       "      <th>ACTION_TAKEN1_DESC</th>\n",
       "      <th>ZIP_CODE</th>\n",
       "      <th>BOROUGH_DESC</th>\n",
       "      <th>CO_DETECTOR_PRESENT_DESC</th>\n",
       "      <th>INCIDENT_HOUR</th>\n",
       "    </tr>\n",
       "  </thead>\n",
       "  <tbody>\n",
       "    <tr>\n",
       "      <th>28</th>\n",
       "      <td>55672777</td>\n",
       "      <td>2332</td>\n",
       "      <td>746</td>\n",
       "      <td>2013-01-01 00:20:13</td>\n",
       "      <td>2013-01-01 00:25:39</td>\n",
       "      <td>2.0</td>\n",
       "      <td>2013-01-01 00:41:53</td>\n",
       "      <td>1.0</td>\n",
       "      <td>21.666667</td>\n",
       "      <td>42</td>\n",
       "      <td>10459.0</td>\n",
       "      <td>2</td>\n",
       "      <td>Yes</td>\n",
       "      <td>0</td>\n",
       "    </tr>\n",
       "    <tr>\n",
       "      <th>153</th>\n",
       "      <td>55673169</td>\n",
       "      <td>0097</td>\n",
       "      <td>736</td>\n",
       "      <td>2013-01-01 01:47:48</td>\n",
       "      <td>2013-01-01 01:52:39</td>\n",
       "      <td>2.0</td>\n",
       "      <td>2013-01-01 01:54:26</td>\n",
       "      <td>1.0</td>\n",
       "      <td>6.633333</td>\n",
       "      <td>86</td>\n",
       "      <td>11211.0</td>\n",
       "      <td>4</td>\n",
       "      <td>Yes</td>\n",
       "      <td>1</td>\n",
       "    </tr>\n",
       "    <tr>\n",
       "      <th>249</th>\n",
       "      <td>55673419</td>\n",
       "      <td>3184</td>\n",
       "      <td>424</td>\n",
       "      <td>2013-01-01 03:03:40</td>\n",
       "      <td>2013-01-01 03:08:28</td>\n",
       "      <td>2.0</td>\n",
       "      <td>2013-01-01 03:18:44</td>\n",
       "      <td>1.0</td>\n",
       "      <td>15.066667</td>\n",
       "      <td>42</td>\n",
       "      <td>11234.0</td>\n",
       "      <td>4</td>\n",
       "      <td>Yes</td>\n",
       "      <td>3</td>\n",
       "    </tr>\n",
       "    <tr>\n",
       "      <th>449</th>\n",
       "      <td>55673903</td>\n",
       "      <td>3318</td>\n",
       "      <td>424</td>\n",
       "      <td>2013-01-01 06:38:05</td>\n",
       "      <td>2013-01-01 06:43:07</td>\n",
       "      <td>2.0</td>\n",
       "      <td>2013-01-01 07:09:16</td>\n",
       "      <td>1.0</td>\n",
       "      <td>31.183333</td>\n",
       "      <td>42</td>\n",
       "      <td>10468.0</td>\n",
       "      <td>2</td>\n",
       "      <td>Yes</td>\n",
       "      <td>6</td>\n",
       "    </tr>\n",
       "    <tr>\n",
       "      <th>687</th>\n",
       "      <td>55674425</td>\n",
       "      <td>0910</td>\n",
       "      <td>116</td>\n",
       "      <td>2013-01-01 12:37:02</td>\n",
       "      <td>2013-01-01 12:41:27</td>\n",
       "      <td>2.0</td>\n",
       "      <td>2013-01-01 12:52:30</td>\n",
       "      <td>1.0</td>\n",
       "      <td>15.466667</td>\n",
       "      <td>40</td>\n",
       "      <td>10019.0</td>\n",
       "      <td>1</td>\n",
       "      <td>Yes</td>\n",
       "      <td>12</td>\n",
       "    </tr>\n",
       "  </tbody>\n",
       "</table>\n",
       "</div>"
      ],
      "text/plain": [
       "     IM_INCIDENT_KEY FIRE_BOX  INCIDENT_TYPE_DESC  INCIDENT_DATE_TIME  \\\n",
       "28          55672777     2332                 746 2013-01-01 00:20:13   \n",
       "153         55673169     0097                 736 2013-01-01 01:47:48   \n",
       "249         55673419     3184                 424 2013-01-01 03:03:40   \n",
       "449         55673903     3318                 424 2013-01-01 06:38:05   \n",
       "687         55674425     0910                 116 2013-01-01 12:37:02   \n",
       "\n",
       "      ARRIVAL_DATE_TIME  UNITS_ONSCENE LAST_UNIT_CLEARED_DATE_TIME  \\\n",
       "28  2013-01-01 00:25:39            2.0         2013-01-01 00:41:53   \n",
       "153 2013-01-01 01:52:39            2.0         2013-01-01 01:54:26   \n",
       "249 2013-01-01 03:08:28            2.0         2013-01-01 03:18:44   \n",
       "449 2013-01-01 06:43:07            2.0         2013-01-01 07:09:16   \n",
       "687 2013-01-01 12:41:27            2.0         2013-01-01 12:52:30   \n",
       "\n",
       "     HIGHEST_LEVEL_DESC  TOTAL_INCIDENT_DURATION  ACTION_TAKEN1_DESC  \\\n",
       "28                  1.0                21.666667                  42   \n",
       "153                 1.0                 6.633333                  86   \n",
       "249                 1.0                15.066667                  42   \n",
       "449                 1.0                31.183333                  42   \n",
       "687                 1.0                15.466667                  40   \n",
       "\n",
       "     ZIP_CODE  BOROUGH_DESC CO_DETECTOR_PRESENT_DESC  INCIDENT_HOUR  \n",
       "28    10459.0             2                      Yes              0  \n",
       "153   11211.0             4                      Yes              1  \n",
       "249   11234.0             4                      Yes              3  \n",
       "449   10468.0             2                      Yes              6  \n",
       "687   10019.0             1                      Yes             12  "
      ]
     },
     "execution_count": 63,
     "metadata": {},
     "output_type": "execute_result"
    }
   ],
   "source": [
    "sel6 = sel5.loc[(data['CO_DETECTOR_PRESENT_DESC'] == 'Yes')]\n",
    "sel6.head()"
   ]
  },
  {
   "cell_type": "code",
   "execution_count": 64,
   "metadata": {},
   "outputs": [
    {
     "data": {
      "text/html": [
       "<div>\n",
       "<style scoped>\n",
       "    .dataframe tbody tr th:only-of-type {\n",
       "        vertical-align: middle;\n",
       "    }\n",
       "\n",
       "    .dataframe tbody tr th {\n",
       "        vertical-align: top;\n",
       "    }\n",
       "\n",
       "    .dataframe thead th {\n",
       "        text-align: right;\n",
       "    }\n",
       "</style>\n",
       "<table border=\"1\" class=\"dataframe\">\n",
       "  <thead>\n",
       "    <tr style=\"text-align: right;\">\n",
       "      <th></th>\n",
       "      <th>IM_INCIDENT_KEY</th>\n",
       "      <th>FIRE_BOX</th>\n",
       "      <th>INCIDENT_TYPE_DESC</th>\n",
       "      <th>INCIDENT_DATE_TIME</th>\n",
       "      <th>ARRIVAL_DATE_TIME</th>\n",
       "      <th>UNITS_ONSCENE</th>\n",
       "      <th>LAST_UNIT_CLEARED_DATE_TIME</th>\n",
       "      <th>HIGHEST_LEVEL_DESC</th>\n",
       "      <th>TOTAL_INCIDENT_DURATION</th>\n",
       "      <th>ACTION_TAKEN1_DESC</th>\n",
       "      <th>ZIP_CODE</th>\n",
       "      <th>BOROUGH_DESC</th>\n",
       "      <th>CO_DETECTOR_PRESENT_DESC</th>\n",
       "      <th>INCIDENT_HOUR</th>\n",
       "    </tr>\n",
       "  </thead>\n",
       "  <tbody>\n",
       "    <tr>\n",
       "      <th>194</th>\n",
       "      <td>55673290</td>\n",
       "      <td>0105</td>\n",
       "      <td>400</td>\n",
       "      <td>2013-01-01 02:21:49</td>\n",
       "      <td>2013-01-01 02:30:05</td>\n",
       "      <td>2.0</td>\n",
       "      <td>2013-01-01 02:47:36</td>\n",
       "      <td>1.0</td>\n",
       "      <td>25.783333</td>\n",
       "      <td>45</td>\n",
       "      <td>10007.0</td>\n",
       "      <td>1</td>\n",
       "      <td>No</td>\n",
       "      <td>2</td>\n",
       "    </tr>\n",
       "    <tr>\n",
       "      <th>534</th>\n",
       "      <td>55674115</td>\n",
       "      <td>2032</td>\n",
       "      <td>746</td>\n",
       "      <td>2013-01-01 08:54:14</td>\n",
       "      <td>2013-01-01 08:58:03</td>\n",
       "      <td>2.0</td>\n",
       "      <td>2013-01-01 09:10:44</td>\n",
       "      <td>1.0</td>\n",
       "      <td>16.500000</td>\n",
       "      <td>42</td>\n",
       "      <td>11414.0</td>\n",
       "      <td>5</td>\n",
       "      <td>No</td>\n",
       "      <td>8</td>\n",
       "    </tr>\n",
       "    <tr>\n",
       "      <th>3005</th>\n",
       "      <td>55680018</td>\n",
       "      <td>1294</td>\n",
       "      <td>400</td>\n",
       "      <td>2013-01-03 17:02:14</td>\n",
       "      <td>2013-01-03 17:06:10</td>\n",
       "      <td>2.0</td>\n",
       "      <td>2013-01-03 17:24:50</td>\n",
       "      <td>1.0</td>\n",
       "      <td>22.600000</td>\n",
       "      <td>86</td>\n",
       "      <td>10025.0</td>\n",
       "      <td>1</td>\n",
       "      <td>No</td>\n",
       "      <td>17</td>\n",
       "    </tr>\n",
       "    <tr>\n",
       "      <th>3122</th>\n",
       "      <td>55680290</td>\n",
       "      <td>3575</td>\n",
       "      <td>400</td>\n",
       "      <td>2013-01-03 18:35:17</td>\n",
       "      <td>2013-01-03 18:35:54</td>\n",
       "      <td>1.0</td>\n",
       "      <td>2013-01-03 19:09:07</td>\n",
       "      <td>1.0</td>\n",
       "      <td>33.833333</td>\n",
       "      <td>40</td>\n",
       "      <td>10467.0</td>\n",
       "      <td>2</td>\n",
       "      <td>No</td>\n",
       "      <td>18</td>\n",
       "    </tr>\n",
       "    <tr>\n",
       "      <th>5156</th>\n",
       "      <td>55685152</td>\n",
       "      <td>2744</td>\n",
       "      <td>424</td>\n",
       "      <td>2013-01-05 17:28:54</td>\n",
       "      <td>2013-01-05 17:33:51</td>\n",
       "      <td>6.0</td>\n",
       "      <td>2013-01-05 17:58:16</td>\n",
       "      <td>1.0</td>\n",
       "      <td>29.366667</td>\n",
       "      <td>42</td>\n",
       "      <td>10459.0</td>\n",
       "      <td>2</td>\n",
       "      <td>No</td>\n",
       "      <td>17</td>\n",
       "    </tr>\n",
       "  </tbody>\n",
       "</table>\n",
       "</div>"
      ],
      "text/plain": [
       "      IM_INCIDENT_KEY FIRE_BOX  INCIDENT_TYPE_DESC  INCIDENT_DATE_TIME  \\\n",
       "194          55673290     0105                 400 2013-01-01 02:21:49   \n",
       "534          55674115     2032                 746 2013-01-01 08:54:14   \n",
       "3005         55680018     1294                 400 2013-01-03 17:02:14   \n",
       "3122         55680290     3575                 400 2013-01-03 18:35:17   \n",
       "5156         55685152     2744                 424 2013-01-05 17:28:54   \n",
       "\n",
       "       ARRIVAL_DATE_TIME  UNITS_ONSCENE LAST_UNIT_CLEARED_DATE_TIME  \\\n",
       "194  2013-01-01 02:30:05            2.0         2013-01-01 02:47:36   \n",
       "534  2013-01-01 08:58:03            2.0         2013-01-01 09:10:44   \n",
       "3005 2013-01-03 17:06:10            2.0         2013-01-03 17:24:50   \n",
       "3122 2013-01-03 18:35:54            1.0         2013-01-03 19:09:07   \n",
       "5156 2013-01-05 17:33:51            6.0         2013-01-05 17:58:16   \n",
       "\n",
       "      HIGHEST_LEVEL_DESC  TOTAL_INCIDENT_DURATION  ACTION_TAKEN1_DESC  \\\n",
       "194                  1.0                25.783333                  45   \n",
       "534                  1.0                16.500000                  42   \n",
       "3005                 1.0                22.600000                  86   \n",
       "3122                 1.0                33.833333                  40   \n",
       "5156                 1.0                29.366667                  42   \n",
       "\n",
       "      ZIP_CODE  BOROUGH_DESC CO_DETECTOR_PRESENT_DESC  INCIDENT_HOUR  \n",
       "194    10007.0             1                       No              2  \n",
       "534    11414.0             5                       No              8  \n",
       "3005   10025.0             1                       No             17  \n",
       "3122   10467.0             2                       No             18  \n",
       "5156   10459.0             2                       No             17  "
      ]
     },
     "execution_count": 64,
     "metadata": {},
     "output_type": "execute_result"
    }
   ],
   "source": [
    "sel7 = sel5.loc[(data['CO_DETECTOR_PRESENT_DESC'] == 'No')]\n",
    "sel7.head()"
   ]
  },
  {
   "cell_type": "code",
   "execution_count": 65,
   "metadata": {},
   "outputs": [
    {
     "data": {
      "text/plain": [
       "(20.0, 30.0]    6460\n",
       "(30.0, 40.0]    2133\n",
       "(40.0, 50.0]     916\n",
       "(50.0, 60.0]     473\n",
       "(60.0, 70.0]     232\n",
       "Name: TOTAL_INCIDENT_DURATION, dtype: int64"
      ]
     },
     "execution_count": 65,
     "metadata": {},
     "output_type": "execute_result"
    }
   ],
   "source": [
    "bins_yes = pd.cut(sel6['TOTAL_INCIDENT_DURATION'], [20.0, 30.0, 40.0, 50.0, 60.0, 70.0])\n",
    "co_detector_present = bins_yes.value_counts()\n",
    "co_detector_present"
   ]
  },
  {
   "cell_type": "code",
   "execution_count": 66,
   "metadata": {},
   "outputs": [
    {
     "data": {
      "text/plain": [
       "(20.0, 30.0]    1171\n",
       "(30.0, 40.0]     576\n",
       "(40.0, 50.0]     345\n",
       "(50.0, 60.0]     245\n",
       "(60.0, 70.0]     153\n",
       "Name: TOTAL_INCIDENT_DURATION, dtype: int64"
      ]
     },
     "execution_count": 66,
     "metadata": {},
     "output_type": "execute_result"
    }
   ],
   "source": [
    "bins_no = pd.cut(sel7['TOTAL_INCIDENT_DURATION'], [20.0, 30.0, 40.0, 50.0, 60.0, 70.0])\n",
    "co_detector_absent = bins_no.value_counts()\n",
    "co_detector_absent"
   ]
  },
  {
   "cell_type": "markdown",
   "metadata": {},
   "source": [
    "First, need to normalise and then compute proprtion of events in the Yes and No bin out of the total incidents. "
   ]
  },
  {
   "cell_type": "code",
   "execution_count": 67,
   "metadata": {},
   "outputs": [
    {
     "data": {
      "text/plain": [
       "(20.0, 30.0]    0.846547\n",
       "(30.0, 40.0]    0.787375\n",
       "(40.0, 50.0]    0.726408\n",
       "(50.0, 60.0]    0.658774\n",
       "(60.0, 70.0]    0.602597\n",
       "Name: TOTAL_INCIDENT_DURATION, dtype: float64"
      ]
     },
     "execution_count": 67,
     "metadata": {},
     "output_type": "execute_result"
    }
   ],
   "source": [
    "normalised_yes = co_detector_present/total_incidents\n",
    "normalised_yes"
   ]
  },
  {
   "cell_type": "code",
   "execution_count": 68,
   "metadata": {},
   "outputs": [
    {
     "data": {
      "text/plain": [
       "(20.0, 30.0]    0.153453\n",
       "(30.0, 40.0]    0.212625\n",
       "(40.0, 50.0]    0.273592\n",
       "(50.0, 60.0]    0.341226\n",
       "(60.0, 70.0]    0.397403\n",
       "Name: TOTAL_INCIDENT_DURATION, dtype: float64"
      ]
     },
     "execution_count": 68,
     "metadata": {},
     "output_type": "execute_result"
    }
   ],
   "source": [
    "normalised_no = co_detector_absent/total_incidents\n",
    "normalised_no"
   ]
  },
  {
   "cell_type": "code",
   "execution_count": 69,
   "metadata": {},
   "outputs": [
    {
     "data": {
      "text/plain": [
       "(20.0, 30.0]    5.516652\n",
       "(30.0, 40.0]    3.703125\n",
       "(40.0, 50.0]    2.655072\n",
       "(50.0, 60.0]    1.930612\n",
       "(60.0, 70.0]    1.516340\n",
       "Name: TOTAL_INCIDENT_DURATION, dtype: float64"
      ]
     },
     "execution_count": 69,
     "metadata": {},
     "output_type": "execute_result"
    }
   ],
   "source": [
    "normalised_ratio_of_co = normalised_yes/normalised_no\n",
    "normalised_ratio_of_co"
   ]
  },
  {
   "cell_type": "code",
   "execution_count": 70,
   "metadata": {},
   "outputs": [],
   "source": [
    "normalised_ratio_of_co = normalised_ratio_of_co.rename_axis('BINS').reset_index(name='RATIO_OF_INCIDENTS')"
   ]
  },
  {
   "cell_type": "code",
   "execution_count": 71,
   "metadata": {},
   "outputs": [
    {
     "data": {
      "text/html": [
       "<div>\n",
       "<style scoped>\n",
       "    .dataframe tbody tr th:only-of-type {\n",
       "        vertical-align: middle;\n",
       "    }\n",
       "\n",
       "    .dataframe tbody tr th {\n",
       "        vertical-align: top;\n",
       "    }\n",
       "\n",
       "    .dataframe thead th {\n",
       "        text-align: right;\n",
       "    }\n",
       "</style>\n",
       "<table border=\"1\" class=\"dataframe\">\n",
       "  <thead>\n",
       "    <tr style=\"text-align: right;\">\n",
       "      <th></th>\n",
       "      <th>BINS</th>\n",
       "      <th>RATIO_OF_INCIDENTS</th>\n",
       "    </tr>\n",
       "  </thead>\n",
       "  <tbody>\n",
       "    <tr>\n",
       "      <th>0</th>\n",
       "      <td>(20.0, 30.0]</td>\n",
       "      <td>5.516652</td>\n",
       "    </tr>\n",
       "    <tr>\n",
       "      <th>1</th>\n",
       "      <td>(30.0, 40.0]</td>\n",
       "      <td>3.703125</td>\n",
       "    </tr>\n",
       "    <tr>\n",
       "      <th>2</th>\n",
       "      <td>(40.0, 50.0]</td>\n",
       "      <td>2.655072</td>\n",
       "    </tr>\n",
       "    <tr>\n",
       "      <th>3</th>\n",
       "      <td>(50.0, 60.0]</td>\n",
       "      <td>1.930612</td>\n",
       "    </tr>\n",
       "    <tr>\n",
       "      <th>4</th>\n",
       "      <td>(60.0, 70.0]</td>\n",
       "      <td>1.516340</td>\n",
       "    </tr>\n",
       "  </tbody>\n",
       "</table>\n",
       "</div>"
      ],
      "text/plain": [
       "           BINS  RATIO_OF_INCIDENTS\n",
       "0  (20.0, 30.0]            5.516652\n",
       "1  (30.0, 40.0]            3.703125\n",
       "2  (40.0, 50.0]            2.655072\n",
       "3  (50.0, 60.0]            1.930612\n",
       "4  (60.0, 70.0]            1.516340"
      ]
     },
     "execution_count": 71,
     "metadata": {},
     "output_type": "execute_result"
    }
   ],
   "source": [
    "normalised_ratio_of_co.head()"
   ]
  },
  {
   "cell_type": "code",
   "execution_count": 72,
   "metadata": {},
   "outputs": [
    {
     "data": {
      "text/plain": [
       "BINS                  category\n",
       "RATIO_OF_INCIDENTS     float64\n",
       "dtype: object"
      ]
     },
     "execution_count": 72,
     "metadata": {},
     "output_type": "execute_result"
    }
   ],
   "source": [
    "normalised_ratio_of_co.dtypes"
   ]
  },
  {
   "cell_type": "markdown",
   "metadata": {},
   "source": [
    "Now, let us perform the Linear Regression. "
   ]
  },
  {
   "cell_type": "code",
   "execution_count": null,
   "metadata": {},
   "outputs": [],
   "source": [
    "bins_yes.plot.scatter(x = \"\" ,y = \"TOTAL_INCIDENT_DURATION\")\n"
   ]
  },
  {
   "cell_type": "code",
   "execution_count": null,
   "metadata": {},
   "outputs": [],
   "source": [
    "from sklearn.linear_model import LinearRegression\n",
    "\n",
    "model = LinearRegression()\n",
    "model.fit(normalised_ratio_of_co)"
   ]
  }
 ],
 "metadata": {
  "kernelspec": {
   "display_name": "Python 3",
   "language": "python",
   "name": "python3"
  },
  "language_info": {
   "codemirror_mode": {
    "name": "ipython",
    "version": 3
   },
   "file_extension": ".py",
   "mimetype": "text/x-python",
   "name": "python",
   "nbconvert_exporter": "python",
   "pygments_lexer": "ipython3",
   "version": "3.6.7"
  }
 },
 "nbformat": 4,
 "nbformat_minor": 2
}
